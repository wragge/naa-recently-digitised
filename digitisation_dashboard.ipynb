{
 "cells": [
  {
   "cell_type": "markdown",
   "id": "2d494c21-8813-4994-a157-0a2db545639a",
   "metadata": {},
   "source": [
    "# National Archives of Australia Digitisation Dashboard\n",
    "\n",
    "The National Archives of Australia's online database, RecordSearch, includes a list of recently digitised files, but this list only includes files digitised in the last month, so it's not possible to examine long-term changes. Since March 2021, I've captured weekly harvests of this list and saved them to [a GitHub repository](https://github.com/wragge/naa-recently-digitised). This dashboard aggregates the weekly harvests to display digitisation progress in the last week, the current year, and since harvests began in 2021.\n",
    "\n",
    "A dataset containing annual compilations of the weekly harvests is [available from Zenodo](https://doi.org/10.5281/zenodo.14744049).\n",
    "\n",
    "<p class=\"alert alert-danger\"><a href=\"https://updates.timsherratt.org/2025/05/19/no-more-harvesting-data-from.html\">Changes to RecordSearch in May 2025</a> have blocked the weekly harvests and made it impossible to update this dashboard. The last data harvest was on 11 May 2025.</p>\n",
    "\n",
    "<style>.jp-RenderedHTMLCommon table { table-layout: auto;}</style>"
   ]
  },
  {
   "cell_type": "code",
   "execution_count": 35,
   "id": "5e9623a8-7e22-4288-a9cb-55291494b3bd",
   "metadata": {},
   "outputs": [],
   "source": [
    "import datetime\n",
    "from urllib.error import HTTPError\n",
    "import re\n",
    "from IPython.display import Markdown, HTML\n",
    "from pathlib import Path\n",
    "\n",
    "import arrow\n",
    "import requests\n",
    "import pandas as pd\n",
    "from IPython.display import display\n",
    "from recordsearch_data_scraper.scrapers import RSSeries\n",
    "import altair as alt\n",
    "import ipywidgets as widgets\n",
    "\n",
    "def add_series_titles(df):\n",
    "    series_list = list(df[\"series\"].unique())\n",
    "\n",
    "    cited_series = []\n",
    "    for series in series_list:\n",
    "        data = RSSeries(\n",
    "            series, include_number_digitised=False, include_access_status=False\n",
    "        ).data\n",
    "        cited_series.append({\"series\": series, \"series_title\": data.get(\"title\", \"\")})\n",
    "\n",
    "    df_titles = pd.merge(df, pd.DataFrame(cited_series), how=\"left\", on=\"series\")\n",
    "\n",
    "    return df_titles\n",
    "\n",
    "def top_series(df):\n",
    "\n",
    "    with pd.option_context(\"display.max_colwidth\", None):\n",
    "        df = (\n",
    "            df.value_counts([\"series\", \"series_title\"]).to_frame().reset_index()\n",
    "        )\n",
    "        df.columns = [\"series\", \"series_title\", \"total\"]\n",
    "        df[\"series\"] = df[\"series\"].apply(lambda x: f\"<a href='http://recordsearch.naa.gov.au/scripts/AutoSearch.asp?Number={x}'>{x}</a>\")\n",
    "        display(df[:25].style.set_properties(**{\"text-align\": \"left\"}).set_table_styles([{'selector': 'th', 'props': 'text-align: left;'}]).hide().format(thousands=\",\"))\n",
    "\n",
    "most_recent_harvest = sorted(Path(\"data\").glob(\"*.csv\"), reverse=True)[0]\n",
    "total_harvests = len(list(Path(\"data\").glob(\"*.csv\")))\n",
    "df_most_recent = pd.read_csv(most_recent_harvest, parse_dates=[\"date_digitised\"], keep_default_na=False)\n",
    "df_week = add_series_titles(df_most_recent)\n",
    "\n",
    "dfs = [df_week]\n",
    "for year in Path(\"years\").glob(\"digitised_*.parquet\"):\n",
    "    df = pd.read_parquet(year)\n",
    "    #df[\"date_digitised\"] = pd.to_datetime(df[\"date_digitised\"].astype(str), format='%Y-%d-%m').dt.date\n",
    "    dfs.append(df)\n",
    "df_all = pd.concat(dfs)\n",
    "df_all.drop_duplicates(inplace=True)\n",
    "\n",
    "df_year = df_all.copy().loc[df_all[\"date_digitised\"] >= f\"{arrow.now().year}-01-01\"]\n",
    "df_year.drop_duplicates(inplace=True)\n",
    "\n",
    "start_date = arrow.get(df_all['date_digitised'].min()).format('d MMMM YYYY')\n",
    "week_end = arrow.get(re.search(r\"(\\d{8})\", most_recent_harvest.name).group(1), \"YYYYMMDD\")\n",
    "week_start = week_end.shift(weeks=-1)"
   ]
  },
  {
   "cell_type": "code",
   "execution_count": 36,
   "id": "69d2cac9-446d-4be2-93d1-3e3989eb67bb",
   "metadata": {},
   "outputs": [
    {
     "data": {
      "text/markdown": [
       "There have been **211 weekly harvests** since March 2021. The most recent harvest was on 11 May 2025."
      ],
      "text/plain": [
       "<IPython.core.display.Markdown object>"
      ]
     },
     "execution_count": 36,
     "metadata": {},
     "output_type": "execute_result"
    }
   ],
   "source": [
    "Markdown(f\"There have been **{total_harvests} weekly harvests** since March 2021. The most recent harvest was on {week_end.format('D MMMM YYYY')}.\")"
   ]
  },
  {
   "cell_type": "code",
   "execution_count": 37,
   "id": "202f97a9-9715-4a20-9b80-cb29eb0c1390",
   "metadata": {},
   "outputs": [
    {
     "data": {
      "text/markdown": [
       "## Files digitised last week (4 May 2025 – 11 May 2025)"
      ],
      "text/plain": [
       "<IPython.core.display.Markdown object>"
      ]
     },
     "execution_count": 37,
     "metadata": {},
     "output_type": "execute_result"
    }
   ],
   "source": [
    "Markdown(f\"## Files digitised last week ({week_start.format('D MMM YYYY')} – {week_end.format('D MMM YYYY')})\")"
   ]
  },
  {
   "cell_type": "code",
   "execution_count": 38,
   "id": "8cbe370d-c44d-4b51-8085-4d2bae183953",
   "metadata": {},
   "outputs": [
    {
     "data": {
      "text/markdown": [
       "**5,012 files** were digitised last week. Here are the number of files digitised per day."
      ],
      "text/plain": [
       "<IPython.core.display.Markdown object>"
      ]
     },
     "execution_count": 38,
     "metadata": {},
     "output_type": "execute_result"
    }
   ],
   "source": [
    "Markdown(f\"**{df_week.shape[0]:,} files** were digitised last week. Here are the number of files digitised per day.\")"
   ]
  },
  {
   "cell_type": "code",
   "execution_count": 39,
   "id": "5da81ba6-5106-4c3e-8d16-834f47da39d4",
   "metadata": {},
   "outputs": [
    {
     "data": {
      "text/html": [
       "<div>\n",
       "<style scoped>\n",
       "    .dataframe tbody tr th:only-of-type {\n",
       "        vertical-align: middle;\n",
       "    }\n",
       "\n",
       "    .dataframe tbody tr th {\n",
       "        vertical-align: top;\n",
       "    }\n",
       "\n",
       "    .dataframe thead th {\n",
       "        text-align: right;\n",
       "    }\n",
       "</style>\n",
       "<table border=\"1\" class=\"dataframe\">\n",
       "  <thead>\n",
       "    <tr style=\"text-align: right;\">\n",
       "      <th></th>\n",
       "      <th>title</th>\n",
       "      <th>item_id</th>\n",
       "      <th>series</th>\n",
       "      <th>control_symbol</th>\n",
       "      <th>date_range</th>\n",
       "      <th>date_digitised</th>\n",
       "      <th>series_title</th>\n",
       "    </tr>\n",
       "  </thead>\n",
       "  <tbody>\n",
       "    <tr>\n",
       "      <th>0</th>\n",
       "      <td>Volume 4 - Number 8 Service Flying Training Sc...</td>\n",
       "      <td>30946910</td>\n",
       "      <td>A10605</td>\n",
       "      <td>863/3</td>\n",
       "      <td>1943 – 1943</td>\n",
       "      <td>2025-05-10</td>\n",
       "      <td>Personnel Occurrence Reports</td>\n",
       "    </tr>\n",
       "    <tr>\n",
       "      <th>1</th>\n",
       "      <td>Volume 3 - Number 8 Service Flying Training Sc...</td>\n",
       "      <td>30946909</td>\n",
       "      <td>A10605</td>\n",
       "      <td>863/2</td>\n",
       "      <td>1942 – 1943</td>\n",
       "      <td>2025-05-10</td>\n",
       "      <td>Personnel Occurrence Reports</td>\n",
       "    </tr>\n",
       "    <tr>\n",
       "      <th>2</th>\n",
       "      <td>Volume 2 - Number 8 Service Flying Training Sc...</td>\n",
       "      <td>30946908</td>\n",
       "      <td>A10605</td>\n",
       "      <td>863/1</td>\n",
       "      <td>1942 – 1942</td>\n",
       "      <td>2025-05-10</td>\n",
       "      <td>Personnel Occurrence Reports</td>\n",
       "    </tr>\n",
       "    <tr>\n",
       "      <th>3</th>\n",
       "      <td>Volume 12 - Number 1 Initial Flying Training S...</td>\n",
       "      <td>30946896</td>\n",
       "      <td>A10605</td>\n",
       "      <td>858/4</td>\n",
       "      <td>1953 – 1953</td>\n",
       "      <td>2025-05-10</td>\n",
       "      <td>Personnel Occurrence Reports</td>\n",
       "    </tr>\n",
       "    <tr>\n",
       "      <th>4</th>\n",
       "      <td>PINTI Stefano [Application for Landing Permit ...</td>\n",
       "      <td>7085371</td>\n",
       "      <td>PP96/1</td>\n",
       "      <td>W1955/3012</td>\n",
       "      <td>1954 – 1956</td>\n",
       "      <td>2025-05-10</td>\n",
       "      <td>Correspondence [client] files, annual single n...</td>\n",
       "    </tr>\n",
       "    <tr>\n",
       "      <th>...</th>\n",
       "      <td>...</td>\n",
       "      <td>...</td>\n",
       "      <td>...</td>\n",
       "      <td>...</td>\n",
       "      <td>...</td>\n",
       "      <td>...</td>\n",
       "      <td>...</td>\n",
       "    </tr>\n",
       "    <tr>\n",
       "      <th>5007</th>\n",
       "      <td>Ballarat Emergency Landing Ground [Landing gro...</td>\n",
       "      <td>203940986</td>\n",
       "      <td>B3712</td>\n",
       "      <td>DRAWER 29 FOLDER 13</td>\n",
       "      <td>1920 – 1970</td>\n",
       "      <td>2025-05-05</td>\n",
       "      <td>Folders of construction drawings, numerical se...</td>\n",
       "    </tr>\n",
       "    <tr>\n",
       "      <th>5008</th>\n",
       "      <td>Ballarat Emergency Landing Ground [Ballarat - ...</td>\n",
       "      <td>203940984</td>\n",
       "      <td>B3712</td>\n",
       "      <td>DRAWER 29 FOLDER 13</td>\n",
       "      <td>1920 – 1970</td>\n",
       "      <td>2025-05-05</td>\n",
       "      <td>Folders of construction drawings, numerical se...</td>\n",
       "    </tr>\n",
       "    <tr>\n",
       "      <th>5009</th>\n",
       "      <td>Ballarat Emergency Landing Ground [Landing gro...</td>\n",
       "      <td>203940985</td>\n",
       "      <td>B3712</td>\n",
       "      <td>DRAWER 29 FOLDER 13</td>\n",
       "      <td>1920 – 1970</td>\n",
       "      <td>2025-05-05</td>\n",
       "      <td>Folders of construction drawings, numerical se...</td>\n",
       "    </tr>\n",
       "    <tr>\n",
       "      <th>5010</th>\n",
       "      <td>Ballarat Emergency Landing Ground [Emergency l...</td>\n",
       "      <td>203940983</td>\n",
       "      <td>B3712</td>\n",
       "      <td>DRAWER 29 FOLDER 13</td>\n",
       "      <td>1920 – 1970</td>\n",
       "      <td>2025-05-05</td>\n",
       "      <td>Folders of construction drawings, numerical se...</td>\n",
       "    </tr>\n",
       "    <tr>\n",
       "      <th>5011</th>\n",
       "      <td>Ballarat Emergency Landing Ground [Locality pl...</td>\n",
       "      <td>203940982</td>\n",
       "      <td>B3712</td>\n",
       "      <td>DRAWER 29 FOLDER 13</td>\n",
       "      <td>1920 – 1970</td>\n",
       "      <td>2025-05-05</td>\n",
       "      <td>Folders of construction drawings, numerical se...</td>\n",
       "    </tr>\n",
       "  </tbody>\n",
       "</table>\n",
       "<p>5012 rows × 7 columns</p>\n",
       "</div>"
      ],
      "text/plain": [
       "                                                  title    item_id  series  \\\n",
       "0     Volume 4 - Number 8 Service Flying Training Sc...   30946910  A10605   \n",
       "1     Volume 3 - Number 8 Service Flying Training Sc...   30946909  A10605   \n",
       "2     Volume 2 - Number 8 Service Flying Training Sc...   30946908  A10605   \n",
       "3     Volume 12 - Number 1 Initial Flying Training S...   30946896  A10605   \n",
       "4     PINTI Stefano [Application for Landing Permit ...    7085371  PP96/1   \n",
       "...                                                 ...        ...     ...   \n",
       "5007  Ballarat Emergency Landing Ground [Landing gro...  203940986   B3712   \n",
       "5008  Ballarat Emergency Landing Ground [Ballarat - ...  203940984   B3712   \n",
       "5009  Ballarat Emergency Landing Ground [Landing gro...  203940985   B3712   \n",
       "5010  Ballarat Emergency Landing Ground [Emergency l...  203940983   B3712   \n",
       "5011  Ballarat Emergency Landing Ground [Locality pl...  203940982   B3712   \n",
       "\n",
       "           control_symbol   date_range date_digitised  \\\n",
       "0                   863/3  1943 – 1943     2025-05-10   \n",
       "1                   863/2  1942 – 1943     2025-05-10   \n",
       "2                   863/1  1942 – 1942     2025-05-10   \n",
       "3                   858/4  1953 – 1953     2025-05-10   \n",
       "4              W1955/3012  1954 – 1956     2025-05-10   \n",
       "...                   ...          ...            ...   \n",
       "5007  DRAWER 29 FOLDER 13  1920 – 1970     2025-05-05   \n",
       "5008  DRAWER 29 FOLDER 13  1920 – 1970     2025-05-05   \n",
       "5009  DRAWER 29 FOLDER 13  1920 – 1970     2025-05-05   \n",
       "5010  DRAWER 29 FOLDER 13  1920 – 1970     2025-05-05   \n",
       "5011  DRAWER 29 FOLDER 13  1920 – 1970     2025-05-05   \n",
       "\n",
       "                                           series_title  \n",
       "0                          Personnel Occurrence Reports  \n",
       "1                          Personnel Occurrence Reports  \n",
       "2                          Personnel Occurrence Reports  \n",
       "3                          Personnel Occurrence Reports  \n",
       "4     Correspondence [client] files, annual single n...  \n",
       "...                                                 ...  \n",
       "5007  Folders of construction drawings, numerical se...  \n",
       "5008  Folders of construction drawings, numerical se...  \n",
       "5009  Folders of construction drawings, numerical se...  \n",
       "5010  Folders of construction drawings, numerical se...  \n",
       "5011  Folders of construction drawings, numerical se...  \n",
       "\n",
       "[5012 rows x 7 columns]"
      ]
     },
     "execution_count": 39,
     "metadata": {},
     "output_type": "execute_result"
    }
   ],
   "source": [
    "df_week"
   ]
  },
  {
   "cell_type": "code",
   "execution_count": 40,
   "id": "2d423f82-461e-480a-a0ca-b9817e7653ba",
   "metadata": {},
   "outputs": [],
   "source": [
    "df_days = df_week.groupby([\"date_digitised\"])[\"item_id\"].count().to_frame().reset_index()"
   ]
  },
  {
   "cell_type": "code",
   "execution_count": 41,
   "id": "e3b5aac1-2d8c-4136-9cab-52903d40e35c",
   "metadata": {},
   "outputs": [
    {
     "data": {
      "text/html": [
       "\n",
       "<style>\n",
       "  #altair-viz-c7856fe8257e41d88c79af56001c4414.vega-embed {\n",
       "    width: 100%;\n",
       "    display: flex;\n",
       "  }\n",
       "\n",
       "  #altair-viz-c7856fe8257e41d88c79af56001c4414.vega-embed details,\n",
       "  #altair-viz-c7856fe8257e41d88c79af56001c4414.vega-embed details summary {\n",
       "    position: relative;\n",
       "  }\n",
       "</style>\n",
       "<div id=\"altair-viz-c7856fe8257e41d88c79af56001c4414\"></div>\n",
       "<script type=\"text/javascript\">\n",
       "  var VEGA_DEBUG = (typeof VEGA_DEBUG == \"undefined\") ? {} : VEGA_DEBUG;\n",
       "  (function(spec, embedOpt){\n",
       "    let outputDiv = document.currentScript.previousElementSibling;\n",
       "    if (outputDiv.id !== \"altair-viz-c7856fe8257e41d88c79af56001c4414\") {\n",
       "      outputDiv = document.getElementById(\"altair-viz-c7856fe8257e41d88c79af56001c4414\");\n",
       "    }\n",
       "\n",
       "    const paths = {\n",
       "      \"vega\": \"https://cdn.jsdelivr.net/npm/vega@5?noext\",\n",
       "      \"vega-lib\": \"https://cdn.jsdelivr.net/npm/vega-lib?noext\",\n",
       "      \"vega-lite\": \"https://cdn.jsdelivr.net/npm/vega-lite@5.20.1?noext\",\n",
       "      \"vega-embed\": \"https://cdn.jsdelivr.net/npm/vega-embed@6?noext\",\n",
       "    };\n",
       "\n",
       "    function maybeLoadScript(lib, version) {\n",
       "      var key = `${lib.replace(\"-\", \"\")}_version`;\n",
       "      return (VEGA_DEBUG[key] == version) ?\n",
       "        Promise.resolve(paths[lib]) :\n",
       "        new Promise(function(resolve, reject) {\n",
       "          var s = document.createElement('script');\n",
       "          document.getElementsByTagName(\"head\")[0].appendChild(s);\n",
       "          s.async = true;\n",
       "          s.onload = () => {\n",
       "            VEGA_DEBUG[key] = version;\n",
       "            return resolve(paths[lib]);\n",
       "          };\n",
       "          s.onerror = () => reject(`Error loading script: ${paths[lib]}`);\n",
       "          s.src = paths[lib];\n",
       "        });\n",
       "    }\n",
       "\n",
       "    function showError(err) {\n",
       "      outputDiv.innerHTML = `<div class=\"error\" style=\"color:red;\">${err}</div>`;\n",
       "      throw err;\n",
       "    }\n",
       "\n",
       "    function displayChart(vegaEmbed) {\n",
       "      vegaEmbed(outputDiv, spec, embedOpt)\n",
       "        .catch(err => showError(`Javascript Error: ${err.message}<br>This usually means there's a typo in your chart specification. See the javascript console for the full traceback.`));\n",
       "    }\n",
       "\n",
       "    if(typeof define === \"function\" && define.amd) {\n",
       "      requirejs.config({paths});\n",
       "      let deps = [\"vega-embed\"];\n",
       "      require(deps, displayChart, err => showError(`Error loading script: ${err.message}`));\n",
       "    } else {\n",
       "      maybeLoadScript(\"vega\", \"5\")\n",
       "        .then(() => maybeLoadScript(\"vega-lite\", \"5.20.1\"))\n",
       "        .then(() => maybeLoadScript(\"vega-embed\", \"6\"))\n",
       "        .catch(showError)\n",
       "        .then(() => displayChart(vegaEmbed));\n",
       "    }\n",
       "  })({\"config\": {\"view\": {\"continuousWidth\": 300, \"continuousHeight\": 300}}, \"data\": {\"name\": \"data-e8d3b2b1c549167dad65e4ccaee806c0\"}, \"mark\": {\"type\": \"bar\"}, \"encoding\": {\"tooltip\": [{\"field\": \"date_digitised\", \"title\": \"date\", \"type\": \"temporal\"}, {\"field\": \"date_digitised\", \"timeUnit\": \"day\", \"title\": \"day\", \"type\": \"temporal\"}, {\"field\": \"item_id\", \"format\": \",\", \"title\": \"number digitised\", \"type\": \"quantitative\"}], \"x\": {\"field\": \"date_digitised\", \"timeUnit\": \"day\", \"title\": \"day of the week\", \"type\": \"ordinal\"}, \"y\": {\"field\": \"item_id\", \"title\": \"number of files digitised\", \"type\": \"quantitative\"}}, \"height\": 200, \"padding\": 20, \"title\": \"Files digitised 4 May 2025 \\u2013 11 May 2025\", \"width\": 300, \"$schema\": \"https://vega.github.io/schema/vega-lite/v5.20.1.json\", \"datasets\": {\"data-e8d3b2b1c549167dad65e4ccaee806c0\": [{\"date_digitised\": \"2025-05-05T00:00:00\", \"item_id\": 31}, {\"date_digitised\": \"2025-05-06T00:00:00\", \"item_id\": 587}, {\"date_digitised\": \"2025-05-07T00:00:00\", \"item_id\": 377}, {\"date_digitised\": \"2025-05-08T00:00:00\", \"item_id\": 336}, {\"date_digitised\": \"2025-05-09T00:00:00\", \"item_id\": 1737}, {\"date_digitised\": \"2025-05-10T00:00:00\", \"item_id\": 1944}]}}, {\"mode\": \"vega-lite\"});\n",
       "</script>"
      ],
      "text/plain": [
       "alt.Chart(...)"
      ]
     },
     "execution_count": 41,
     "metadata": {},
     "output_type": "execute_result"
    }
   ],
   "source": [
    "df_days = df_week.groupby([\"date_digitised\"])[\"item_id\"].count().to_frame().reset_index()\n",
    "\n",
    "alt.Chart(df_days).mark_bar().encode(\n",
    "    x=alt.X(\"day(date_digitised):O\", title=\"day of the week\"),\n",
    "    y=alt.Y(\"item_id:Q\", title=\"number of files digitised\"),\n",
    "    tooltip=[alt.Tooltip(\"date_digitised\", title=\"date\"), alt.Tooltip(\"day(date_digitised)\", title=\"day\"), alt.Tooltip(\"item_id\", title=\"number digitised\", format=\",\")]\n",
    ").properties(padding=20, width=300, height=200, title=f\"Files digitised {week_start.format('D MMM YYYY')} – {week_end.format('D MMM YYYY')}\" )"
   ]
  },
  {
   "cell_type": "code",
   "execution_count": 42,
   "id": "9dec1752-6d10-4c57-8c4a-7faae9bdb5b8",
   "metadata": {},
   "outputs": [
    {
     "data": {
      "text/markdown": [
       "The files came from **76 different series**. Here are the 25 series which contain the most files digitised last week."
      ],
      "text/plain": [
       "<IPython.core.display.Markdown object>"
      ]
     },
     "execution_count": 42,
     "metadata": {},
     "output_type": "execute_result"
    }
   ],
   "source": [
    "Markdown(f\"The files came from **{df_week['series'].nunique():,} different series**. Here are the 25 series which contain the most files digitised last week.\")"
   ]
  },
  {
   "cell_type": "code",
   "execution_count": 43,
   "id": "1373da58-be65-45bd-8138-481f8f8ae129",
   "metadata": {},
   "outputs": [
    {
     "data": {
      "text/html": [
       "<style type=\"text/css\">\n",
       "#T_2cb4c th {\n",
       "  text-align: left;\n",
       "}\n",
       "#T_2cb4c_row0_col0, #T_2cb4c_row0_col1, #T_2cb4c_row0_col2, #T_2cb4c_row1_col0, #T_2cb4c_row1_col1, #T_2cb4c_row1_col2, #T_2cb4c_row2_col0, #T_2cb4c_row2_col1, #T_2cb4c_row2_col2, #T_2cb4c_row3_col0, #T_2cb4c_row3_col1, #T_2cb4c_row3_col2, #T_2cb4c_row4_col0, #T_2cb4c_row4_col1, #T_2cb4c_row4_col2, #T_2cb4c_row5_col0, #T_2cb4c_row5_col1, #T_2cb4c_row5_col2, #T_2cb4c_row6_col0, #T_2cb4c_row6_col1, #T_2cb4c_row6_col2, #T_2cb4c_row7_col0, #T_2cb4c_row7_col1, #T_2cb4c_row7_col2, #T_2cb4c_row8_col0, #T_2cb4c_row8_col1, #T_2cb4c_row8_col2, #T_2cb4c_row9_col0, #T_2cb4c_row9_col1, #T_2cb4c_row9_col2, #T_2cb4c_row10_col0, #T_2cb4c_row10_col1, #T_2cb4c_row10_col2, #T_2cb4c_row11_col0, #T_2cb4c_row11_col1, #T_2cb4c_row11_col2, #T_2cb4c_row12_col0, #T_2cb4c_row12_col1, #T_2cb4c_row12_col2, #T_2cb4c_row13_col0, #T_2cb4c_row13_col1, #T_2cb4c_row13_col2, #T_2cb4c_row14_col0, #T_2cb4c_row14_col1, #T_2cb4c_row14_col2, #T_2cb4c_row15_col0, #T_2cb4c_row15_col1, #T_2cb4c_row15_col2, #T_2cb4c_row16_col0, #T_2cb4c_row16_col1, #T_2cb4c_row16_col2, #T_2cb4c_row17_col0, #T_2cb4c_row17_col1, #T_2cb4c_row17_col2, #T_2cb4c_row18_col0, #T_2cb4c_row18_col1, #T_2cb4c_row18_col2, #T_2cb4c_row19_col0, #T_2cb4c_row19_col1, #T_2cb4c_row19_col2, #T_2cb4c_row20_col0, #T_2cb4c_row20_col1, #T_2cb4c_row20_col2, #T_2cb4c_row21_col0, #T_2cb4c_row21_col1, #T_2cb4c_row21_col2, #T_2cb4c_row22_col0, #T_2cb4c_row22_col1, #T_2cb4c_row22_col2, #T_2cb4c_row23_col0, #T_2cb4c_row23_col1, #T_2cb4c_row23_col2, #T_2cb4c_row24_col0, #T_2cb4c_row24_col1, #T_2cb4c_row24_col2 {\n",
       "  text-align: left;\n",
       "}\n",
       "</style>\n",
       "<table id=\"T_2cb4c\">\n",
       "  <thead>\n",
       "    <tr>\n",
       "      <th id=\"T_2cb4c_level0_col0\" class=\"col_heading level0 col0\" >series</th>\n",
       "      <th id=\"T_2cb4c_level0_col1\" class=\"col_heading level0 col1\" >series_title</th>\n",
       "      <th id=\"T_2cb4c_level0_col2\" class=\"col_heading level0 col2\" >total</th>\n",
       "    </tr>\n",
       "  </thead>\n",
       "  <tbody>\n",
       "    <tr>\n",
       "      <td id=\"T_2cb4c_row0_col0\" class=\"data row0 col0\" ><a href='http://recordsearch.naa.gov.au/scripts/AutoSearch.asp?Number=A8746'>A8746</a></td>\n",
       "      <td id=\"T_2cb4c_row0_col1\" class=\"data row0 col1\" >Photographic colour negatives, chronological series with 'KN' or 'RKN' prefix and a single number suffix</td>\n",
       "      <td id=\"T_2cb4c_row0_col2\" class=\"data row0 col2\" >2,211</td>\n",
       "    </tr>\n",
       "    <tr>\n",
       "      <td id=\"T_2cb4c_row1_col0\" class=\"data row1 col0\" ><a href='http://recordsearch.naa.gov.au/scripts/AutoSearch.asp?Number=A11016'>A11016</a></td>\n",
       "      <td id=\"T_2cb4c_row1_col1\" class=\"data row1 col1\" >Construction of Snowy Mountains Hydro-Electric Scheme, black and white photographic negatives, single number series</td>\n",
       "      <td id=\"T_2cb4c_row1_col2\" class=\"data row1 col2\" >1,401</td>\n",
       "    </tr>\n",
       "    <tr>\n",
       "      <td id=\"T_2cb4c_row2_col0\" class=\"data row2 col0\" ><a href='http://recordsearch.naa.gov.au/scripts/AutoSearch.asp?Number=D1989'>D1989</a></td>\n",
       "      <td id=\"T_2cb4c_row2_col1\" class=\"data row2 col1\" >Application forms, medical examination documents and related papers of British and Foreign Immigrants (including Ex Service) in receipt of free and assisted passages, chronological order of ship arrival.</td>\n",
       "      <td id=\"T_2cb4c_row2_col2\" class=\"data row2 col2\" >359</td>\n",
       "    </tr>\n",
       "    <tr>\n",
       "      <td id=\"T_2cb4c_row3_col0\" class=\"data row3 col0\" ><a href='http://recordsearch.naa.gov.au/scripts/AutoSearch.asp?Number=B6288'>B6288</a></td>\n",
       "      <td id=\"T_2cb4c_row3_col1\" class=\"data row3 col1\" ></td>\n",
       "      <td id=\"T_2cb4c_row3_col2\" class=\"data row3 col2\" >260</td>\n",
       "    </tr>\n",
       "    <tr>\n",
       "      <td id=\"T_2cb4c_row4_col0\" class=\"data row4 col0\" ><a href='http://recordsearch.naa.gov.au/scripts/AutoSearch.asp?Number=D3481'>D3481</a></td>\n",
       "      <td id=\"T_2cb4c_row4_col1\" class=\"data row4 col1\" >Photographs (black and white, colour) of buildings, installations, sites, etc</td>\n",
       "      <td id=\"T_2cb4c_row4_col2\" class=\"data row4 col2\" >166</td>\n",
       "    </tr>\n",
       "    <tr>\n",
       "      <td id=\"T_2cb4c_row5_col0\" class=\"data row5 col0\" ><a href='http://recordsearch.naa.gov.au/scripts/AutoSearch.asp?Number=PP246/4'>PP246/4</a></td>\n",
       "      <td id=\"T_2cb4c_row5_col1\" class=\"data row5 col1\" >Personal Statement and Declaration forms, alphabetical order within nationality</td>\n",
       "      <td id=\"T_2cb4c_row5_col2\" class=\"data row5 col2\" >147</td>\n",
       "    </tr>\n",
       "    <tr>\n",
       "      <td id=\"T_2cb4c_row6_col0\" class=\"data row6 col0\" ><a href='http://recordsearch.naa.gov.au/scripts/AutoSearch.asp?Number=B883'>B883</a></td>\n",
       "      <td id=\"T_2cb4c_row6_col1\" class=\"data row6 col1\" >Second Australian Imperial Force Personnel Dossiers, 1939-1947</td>\n",
       "      <td id=\"T_2cb4c_row6_col2\" class=\"data row6 col2\" >98</td>\n",
       "    </tr>\n",
       "    <tr>\n",
       "      <td id=\"T_2cb4c_row7_col0\" class=\"data row7 col0\" ><a href='http://recordsearch.naa.gov.au/scripts/AutoSearch.asp?Number=A10605'>A10605</a></td>\n",
       "      <td id=\"T_2cb4c_row7_col1\" class=\"data row7 col1\" >Personnel Occurrence Reports</td>\n",
       "      <td id=\"T_2cb4c_row7_col2\" class=\"data row7 col2\" >84</td>\n",
       "    </tr>\n",
       "    <tr>\n",
       "      <td id=\"T_2cb4c_row8_col0\" class=\"data row8 col0\" ><a href='http://recordsearch.naa.gov.au/scripts/AutoSearch.asp?Number=A2403'>A2403</a></td>\n",
       "      <td id=\"T_2cb4c_row8_col1\" class=\"data row8 col1\" ></td>\n",
       "      <td id=\"T_2cb4c_row8_col2\" class=\"data row8 col2\" >70</td>\n",
       "    </tr>\n",
       "    <tr>\n",
       "      <td id=\"T_2cb4c_row9_col0\" class=\"data row9 col0\" ><a href='http://recordsearch.naa.gov.au/scripts/AutoSearch.asp?Number=A705'>A705</a></td>\n",
       "      <td id=\"T_2cb4c_row9_col1\" class=\"data row9 col1\" >Correspondence files, multiple number (Melbourne) series (Primary numbers 1-323)</td>\n",
       "      <td id=\"T_2cb4c_row9_col2\" class=\"data row9 col2\" >50</td>\n",
       "    </tr>\n",
       "    <tr>\n",
       "      <td id=\"T_2cb4c_row10_col0\" class=\"data row10 col0\" ><a href='http://recordsearch.naa.gov.au/scripts/AutoSearch.asp?Number=J2774'>J2774</a></td>\n",
       "      <td id=\"T_2cb4c_row10_col1\" class=\"data row10 col1\" >Architectural plans, single number series with 'W' (Works) prefix</td>\n",
       "      <td id=\"T_2cb4c_row10_col2\" class=\"data row10 col2\" >21</td>\n",
       "    </tr>\n",
       "    <tr>\n",
       "      <td id=\"T_2cb4c_row11_col0\" class=\"data row11 col0\" ><a href='http://recordsearch.naa.gov.au/scripts/AutoSearch.asp?Number=PP9/4'>PP9/4</a></td>\n",
       "      <td id=\"T_2cb4c_row11_col1\" class=\"data row11 col1\" >Alien passports and travel documents, alphabetical series</td>\n",
       "      <td id=\"T_2cb4c_row11_col2\" class=\"data row11 col2\" >18</td>\n",
       "    </tr>\n",
       "    <tr>\n",
       "      <td id=\"T_2cb4c_row12_col0\" class=\"data row12 col0\" ><a href='http://recordsearch.naa.gov.au/scripts/AutoSearch.asp?Number=B3712'>B3712</a></td>\n",
       "      <td id=\"T_2cb4c_row12_col1\" class=\"data row12 col1\" >Folders of construction drawings, numerical series</td>\n",
       "      <td id=\"T_2cb4c_row12_col2\" class=\"data row12 col2\" >10</td>\n",
       "    </tr>\n",
       "    <tr>\n",
       "      <td id=\"T_2cb4c_row13_col0\" class=\"data row13 col0\" ><a href='http://recordsearch.naa.gov.au/scripts/AutoSearch.asp?Number=A2478'>A2478</a></td>\n",
       "      <td id=\"T_2cb4c_row13_col1\" class=\"data row13 col1\" >Non-British European migrant selection documents</td>\n",
       "      <td id=\"T_2cb4c_row13_col2\" class=\"data row13 col2\" >9</td>\n",
       "    </tr>\n",
       "    <tr>\n",
       "      <td id=\"T_2cb4c_row14_col0\" class=\"data row14 col0\" ><a href='http://recordsearch.naa.gov.au/scripts/AutoSearch.asp?Number=C5528'>C5528</a></td>\n",
       "      <td id=\"T_2cb4c_row14_col1\" class=\"data row14 col1\" ></td>\n",
       "      <td id=\"T_2cb4c_row14_col2\" class=\"data row14 col2\" >7</td>\n",
       "    </tr>\n",
       "    <tr>\n",
       "      <td id=\"T_2cb4c_row15_col0\" class=\"data row15 col0\" ><a href='http://recordsearch.naa.gov.au/scripts/AutoSearch.asp?Number=D4881'>D4881</a></td>\n",
       "      <td id=\"T_2cb4c_row15_col1\" class=\"data row15 col1\" >Alien registration cards, alphabetical series</td>\n",
       "      <td id=\"T_2cb4c_row15_col2\" class=\"data row15 col2\" >6</td>\n",
       "    </tr>\n",
       "    <tr>\n",
       "      <td id=\"T_2cb4c_row16_col0\" class=\"data row16 col0\" ><a href='http://recordsearch.naa.gov.au/scripts/AutoSearch.asp?Number=A6119'>A6119</a></td>\n",
       "      <td id=\"T_2cb4c_row16_col1\" class=\"data row16 col1\" >Personal files, alpha-numeric series</td>\n",
       "      <td id=\"T_2cb4c_row16_col2\" class=\"data row16 col2\" >6</td>\n",
       "    </tr>\n",
       "    <tr>\n",
       "      <td id=\"T_2cb4c_row17_col0\" class=\"data row17 col0\" ><a href='http://recordsearch.naa.gov.au/scripts/AutoSearch.asp?Number=A1877'>A1877</a></td>\n",
       "      <td id=\"T_2cb4c_row17_col1\" class=\"data row17 col1\" >British migrants - Selection documents for free or assisted passage (Commonwealth nominees)</td>\n",
       "      <td id=\"T_2cb4c_row17_col2\" class=\"data row17 col2\" >5</td>\n",
       "    </tr>\n",
       "    <tr>\n",
       "      <td id=\"T_2cb4c_row18_col0\" class=\"data row18 col0\" ><a href='http://recordsearch.naa.gov.au/scripts/AutoSearch.asp?Number=A12508'>A12508</a></td>\n",
       "      <td id=\"T_2cb4c_row18_col1\" class=\"data row18 col1\" >Personal Statement and Declaration by alien passengers entering Australia (Forms A42)</td>\n",
       "      <td id=\"T_2cb4c_row18_col2\" class=\"data row18 col2\" >5</td>\n",
       "    </tr>\n",
       "    <tr>\n",
       "      <td id=\"T_2cb4c_row19_col0\" class=\"data row19 col0\" ><a href='http://recordsearch.naa.gov.au/scripts/AutoSearch.asp?Number=B1535'>B1535</a></td>\n",
       "      <td id=\"T_2cb4c_row19_col1\" class=\"data row19 col1\" >Correspondence files, multiple number series</td>\n",
       "      <td id=\"T_2cb4c_row19_col2\" class=\"data row19 col2\" >4</td>\n",
       "    </tr>\n",
       "    <tr>\n",
       "      <td id=\"T_2cb4c_row20_col0\" class=\"data row20 col0\" ><a href='http://recordsearch.naa.gov.au/scripts/AutoSearch.asp?Number=A1196'>A1196</a></td>\n",
       "      <td id=\"T_2cb4c_row20_col1\" class=\"data row20 col1\" >Correspondence files, multiple number series [Class 501] [501-539] [Classified] [Main correspondence files series of the agency]</td>\n",
       "      <td id=\"T_2cb4c_row20_col2\" class=\"data row20 col2\" >4</td>\n",
       "    </tr>\n",
       "    <tr>\n",
       "      <td id=\"T_2cb4c_row21_col0\" class=\"data row21 col0\" ><a href='http://recordsearch.naa.gov.au/scripts/AutoSearch.asp?Number=MP367/1'>MP367/1</a></td>\n",
       "      <td id=\"T_2cb4c_row21_col1\" class=\"data row21 col1\" >General correspondence files</td>\n",
       "      <td id=\"T_2cb4c_row21_col2\" class=\"data row21 col2\" >3</td>\n",
       "    </tr>\n",
       "    <tr>\n",
       "      <td id=\"T_2cb4c_row22_col0\" class=\"data row22 col0\" ><a href='http://recordsearch.naa.gov.au/scripts/AutoSearch.asp?Number=F1'>F1</a></td>\n",
       "      <td id=\"T_2cb4c_row22_col1\" class=\"data row22 col1\" >Correspondence files, annual single number series [Main correspondence files series of the agency]</td>\n",
       "      <td id=\"T_2cb4c_row22_col2\" class=\"data row22 col2\" >3</td>\n",
       "    </tr>\n",
       "    <tr>\n",
       "      <td id=\"T_2cb4c_row23_col0\" class=\"data row23 col0\" ><a href='http://recordsearch.naa.gov.au/scripts/AutoSearch.asp?Number=D399'>D399</a></td>\n",
       "      <td id=\"T_2cb4c_row23_col1\" class=\"data row23 col1\" >Correspondence files, annual single number series with 'S' prefix</td>\n",
       "      <td id=\"T_2cb4c_row23_col2\" class=\"data row23 col2\" >3</td>\n",
       "    </tr>\n",
       "    <tr>\n",
       "      <td id=\"T_2cb4c_row24_col0\" class=\"data row24 col0\" ><a href='http://recordsearch.naa.gov.au/scripts/AutoSearch.asp?Number=CT190/31'>CT190/31</a></td>\n",
       "      <td id=\"T_2cb4c_row24_col1\" class=\"data row24 col1\" ></td>\n",
       "      <td id=\"T_2cb4c_row24_col2\" class=\"data row24 col2\" >3</td>\n",
       "    </tr>\n",
       "  </tbody>\n",
       "</table>\n"
      ],
      "text/plain": [
       "<pandas.io.formats.style.Styler at 0x7a58127fac20>"
      ]
     },
     "metadata": {},
     "output_type": "display_data"
    }
   ],
   "source": [
    "top_series(df_week)"
   ]
  },
  {
   "cell_type": "code",
   "execution_count": 44,
   "id": "7cc462eb-7384-4b0e-9d79-bf8de3de502b",
   "metadata": {},
   "outputs": [
    {
     "data": {
      "text/html": [
       "<div class=\"alert alert-block alert-info\"><a href=\"https://glam-workbench.net/datasette-lite/?csv=https%3A%2F%2Fgithub.com%2Fwragge%2Fnaa-recently-digitised%2Fblob%2Fmaster%2Fdata%2Fdigitised-week-ending-20250511.csv&install=datasette-homepage-table&fts=title\">Explore files digitised last week using Datasette</a></div>"
      ],
      "text/plain": [
       "<IPython.core.display.HTML object>"
      ]
     },
     "execution_count": 44,
     "metadata": {},
     "output_type": "execute_result"
    }
   ],
   "source": [
    "HTML(f'<div class=\"alert alert-block alert-info\"><a href=\"https://glam-workbench.net/datasette-lite/?csv=https%3A%2F%2Fgithub.com%2Fwragge%2Fnaa-recently-digitised%2Fblob%2Fmaster%2Fdata%2Fdigitised-week-ending-{week_end.format(\"YYYYMMDD\")}.csv&install=datasette-homepage-table&fts=title\">Explore files digitised last week using Datasette</a></div>')"
   ]
  },
  {
   "cell_type": "code",
   "execution_count": 45,
   "id": "87ec9d17-13cb-4fc1-bc07-27226c536c83",
   "metadata": {},
   "outputs": [
    {
     "data": {
      "text/markdown": [
       "## Files digitised this year (2025)"
      ],
      "text/plain": [
       "<IPython.core.display.Markdown object>"
      ]
     },
     "execution_count": 45,
     "metadata": {},
     "output_type": "execute_result"
    }
   ],
   "source": [
    "Markdown(f\"## Files digitised this year ({arrow.now().year})\")"
   ]
  },
  {
   "cell_type": "code",
   "execution_count": 46,
   "id": "94ba0310-62ad-4d3b-ae74-60846aaa43f3",
   "metadata": {},
   "outputs": [
    {
     "data": {
      "text/markdown": [
       "**76,057 files** have been digitised this year. Here are the number of files digitised per month."
      ],
      "text/plain": [
       "<IPython.core.display.Markdown object>"
      ]
     },
     "execution_count": 46,
     "metadata": {},
     "output_type": "execute_result"
    }
   ],
   "source": [
    "Markdown(f\"**{df_year.shape[0]:,} files** have been digitised this year. Here are the number of files digitised per month.\")"
   ]
  },
  {
   "cell_type": "code",
   "execution_count": 47,
   "id": "7e2f3c0f-23c4-46cb-a17d-629c0ec59a37",
   "metadata": {},
   "outputs": [],
   "source": [
    "df_months = df_year['date_digitised'].groupby(df_year['date_digitised'].dt.to_period(\"M\")).agg('count').to_frame()\n",
    "df_months.index = df_months.index.strftime('%Y-%m')\n",
    "df_months.columns = [\"count\"]\n",
    "df_months.reset_index(inplace=True)"
   ]
  },
  {
   "cell_type": "code",
   "execution_count": 48,
   "id": "399a59d4-14d6-42b7-a724-a067898dbe09",
   "metadata": {},
   "outputs": [
    {
     "data": {
      "text/html": [
       "\n",
       "<style>\n",
       "  #altair-viz-7690f963997848c88fc65d7098290f6c.vega-embed {\n",
       "    width: 100%;\n",
       "    display: flex;\n",
       "  }\n",
       "\n",
       "  #altair-viz-7690f963997848c88fc65d7098290f6c.vega-embed details,\n",
       "  #altair-viz-7690f963997848c88fc65d7098290f6c.vega-embed details summary {\n",
       "    position: relative;\n",
       "  }\n",
       "</style>\n",
       "<div id=\"altair-viz-7690f963997848c88fc65d7098290f6c\"></div>\n",
       "<script type=\"text/javascript\">\n",
       "  var VEGA_DEBUG = (typeof VEGA_DEBUG == \"undefined\") ? {} : VEGA_DEBUG;\n",
       "  (function(spec, embedOpt){\n",
       "    let outputDiv = document.currentScript.previousElementSibling;\n",
       "    if (outputDiv.id !== \"altair-viz-7690f963997848c88fc65d7098290f6c\") {\n",
       "      outputDiv = document.getElementById(\"altair-viz-7690f963997848c88fc65d7098290f6c\");\n",
       "    }\n",
       "\n",
       "    const paths = {\n",
       "      \"vega\": \"https://cdn.jsdelivr.net/npm/vega@5?noext\",\n",
       "      \"vega-lib\": \"https://cdn.jsdelivr.net/npm/vega-lib?noext\",\n",
       "      \"vega-lite\": \"https://cdn.jsdelivr.net/npm/vega-lite@5.20.1?noext\",\n",
       "      \"vega-embed\": \"https://cdn.jsdelivr.net/npm/vega-embed@6?noext\",\n",
       "    };\n",
       "\n",
       "    function maybeLoadScript(lib, version) {\n",
       "      var key = `${lib.replace(\"-\", \"\")}_version`;\n",
       "      return (VEGA_DEBUG[key] == version) ?\n",
       "        Promise.resolve(paths[lib]) :\n",
       "        new Promise(function(resolve, reject) {\n",
       "          var s = document.createElement('script');\n",
       "          document.getElementsByTagName(\"head\")[0].appendChild(s);\n",
       "          s.async = true;\n",
       "          s.onload = () => {\n",
       "            VEGA_DEBUG[key] = version;\n",
       "            return resolve(paths[lib]);\n",
       "          };\n",
       "          s.onerror = () => reject(`Error loading script: ${paths[lib]}`);\n",
       "          s.src = paths[lib];\n",
       "        });\n",
       "    }\n",
       "\n",
       "    function showError(err) {\n",
       "      outputDiv.innerHTML = `<div class=\"error\" style=\"color:red;\">${err}</div>`;\n",
       "      throw err;\n",
       "    }\n",
       "\n",
       "    function displayChart(vegaEmbed) {\n",
       "      vegaEmbed(outputDiv, spec, embedOpt)\n",
       "        .catch(err => showError(`Javascript Error: ${err.message}<br>This usually means there's a typo in your chart specification. See the javascript console for the full traceback.`));\n",
       "    }\n",
       "\n",
       "    if(typeof define === \"function\" && define.amd) {\n",
       "      requirejs.config({paths});\n",
       "      let deps = [\"vega-embed\"];\n",
       "      require(deps, displayChart, err => showError(`Error loading script: ${err.message}`));\n",
       "    } else {\n",
       "      maybeLoadScript(\"vega\", \"5\")\n",
       "        .then(() => maybeLoadScript(\"vega-lite\", \"5.20.1\"))\n",
       "        .then(() => maybeLoadScript(\"vega-embed\", \"6\"))\n",
       "        .catch(showError)\n",
       "        .then(() => displayChart(vegaEmbed));\n",
       "    }\n",
       "  })({\"config\": {\"view\": {\"continuousWidth\": 300, \"continuousHeight\": 300}}, \"data\": {\"name\": \"data-add4c570622ba86667924e9ad73b5597\"}, \"mark\": {\"type\": \"bar\"}, \"encoding\": {\"tooltip\": [{\"field\": \"date_digitised\", \"timeUnit\": \"month\", \"title\": \"month\", \"type\": \"temporal\"}, {\"field\": \"count\", \"format\": \",\", \"title\": \"number digitised\", \"type\": \"quantitative\"}], \"x\": {\"field\": \"date_digitised\", \"timeUnit\": \"month\", \"title\": \"month\", \"type\": \"ordinal\"}, \"y\": {\"field\": \"count\", \"title\": \"number of files digitised\", \"type\": \"quantitative\"}}, \"height\": 200, \"padding\": 20, \"title\": \"Files digitised 2025\", \"width\": 300, \"$schema\": \"https://vega.github.io/schema/vega-lite/v5.20.1.json\", \"datasets\": {\"data-add4c570622ba86667924e9ad73b5597\": [{\"date_digitised\": \"2025-01\", \"count\": 14144}, {\"date_digitised\": \"2025-02\", \"count\": 12292}, {\"date_digitised\": \"2025-03\", \"count\": 9998}, {\"date_digitised\": \"2025-04\", \"count\": 26876}, {\"date_digitised\": \"2025-05\", \"count\": 12747}]}}, {\"mode\": \"vega-lite\"});\n",
       "</script>"
      ],
      "text/plain": [
       "alt.Chart(...)"
      ]
     },
     "execution_count": 48,
     "metadata": {},
     "output_type": "execute_result"
    }
   ],
   "source": [
    "alt.Chart(df_months).mark_bar().encode(\n",
    "    x=alt.X(\"month(date_digitised):O\", title=\"month\"),\n",
    "    y=alt.Y(\"count:Q\", title=\"number of files digitised\"),\n",
    "    tooltip=[alt.Tooltip(\"month(date_digitised)\", title=\"month\"), alt.Tooltip(\"count\", title=\"number digitised\", format=\",\")]\n",
    ").properties(width=300, height=200, padding=20, title=f\"Files digitised {arrow.now().year}\")"
   ]
  },
  {
   "cell_type": "code",
   "execution_count": 49,
   "id": "bfc8e28a-ecff-428f-b581-6072161244dd",
   "metadata": {},
   "outputs": [
    {
     "data": {
      "text/markdown": [
       "The files came from **737 different series**. Here are the 25 series which contain the most files digitised so far this year."
      ],
      "text/plain": [
       "<IPython.core.display.Markdown object>"
      ]
     },
     "execution_count": 49,
     "metadata": {},
     "output_type": "execute_result"
    }
   ],
   "source": [
    "Markdown(f\"The files came from **{df_year['series'].nunique():,} different series**. Here are the 25 series which contain the most files digitised so far this year.\")"
   ]
  },
  {
   "cell_type": "code",
   "execution_count": 50,
   "id": "6fa61dc0-e455-4759-a123-9237eb31f2a9",
   "metadata": {},
   "outputs": [
    {
     "data": {
      "text/html": [
       "<style type=\"text/css\">\n",
       "#T_bfcc6 th {\n",
       "  text-align: left;\n",
       "}\n",
       "#T_bfcc6_row0_col0, #T_bfcc6_row0_col1, #T_bfcc6_row0_col2, #T_bfcc6_row1_col0, #T_bfcc6_row1_col1, #T_bfcc6_row1_col2, #T_bfcc6_row2_col0, #T_bfcc6_row2_col1, #T_bfcc6_row2_col2, #T_bfcc6_row3_col0, #T_bfcc6_row3_col1, #T_bfcc6_row3_col2, #T_bfcc6_row4_col0, #T_bfcc6_row4_col1, #T_bfcc6_row4_col2, #T_bfcc6_row5_col0, #T_bfcc6_row5_col1, #T_bfcc6_row5_col2, #T_bfcc6_row6_col0, #T_bfcc6_row6_col1, #T_bfcc6_row6_col2, #T_bfcc6_row7_col0, #T_bfcc6_row7_col1, #T_bfcc6_row7_col2, #T_bfcc6_row8_col0, #T_bfcc6_row8_col1, #T_bfcc6_row8_col2, #T_bfcc6_row9_col0, #T_bfcc6_row9_col1, #T_bfcc6_row9_col2, #T_bfcc6_row10_col0, #T_bfcc6_row10_col1, #T_bfcc6_row10_col2, #T_bfcc6_row11_col0, #T_bfcc6_row11_col1, #T_bfcc6_row11_col2, #T_bfcc6_row12_col0, #T_bfcc6_row12_col1, #T_bfcc6_row12_col2, #T_bfcc6_row13_col0, #T_bfcc6_row13_col1, #T_bfcc6_row13_col2, #T_bfcc6_row14_col0, #T_bfcc6_row14_col1, #T_bfcc6_row14_col2, #T_bfcc6_row15_col0, #T_bfcc6_row15_col1, #T_bfcc6_row15_col2, #T_bfcc6_row16_col0, #T_bfcc6_row16_col1, #T_bfcc6_row16_col2, #T_bfcc6_row17_col0, #T_bfcc6_row17_col1, #T_bfcc6_row17_col2, #T_bfcc6_row18_col0, #T_bfcc6_row18_col1, #T_bfcc6_row18_col2, #T_bfcc6_row19_col0, #T_bfcc6_row19_col1, #T_bfcc6_row19_col2, #T_bfcc6_row20_col0, #T_bfcc6_row20_col1, #T_bfcc6_row20_col2, #T_bfcc6_row21_col0, #T_bfcc6_row21_col1, #T_bfcc6_row21_col2, #T_bfcc6_row22_col0, #T_bfcc6_row22_col1, #T_bfcc6_row22_col2, #T_bfcc6_row23_col0, #T_bfcc6_row23_col1, #T_bfcc6_row23_col2, #T_bfcc6_row24_col0, #T_bfcc6_row24_col1, #T_bfcc6_row24_col2 {\n",
       "  text-align: left;\n",
       "}\n",
       "</style>\n",
       "<table id=\"T_bfcc6\">\n",
       "  <thead>\n",
       "    <tr>\n",
       "      <th id=\"T_bfcc6_level0_col0\" class=\"col_heading level0 col0\" >series</th>\n",
       "      <th id=\"T_bfcc6_level0_col1\" class=\"col_heading level0 col1\" >series_title</th>\n",
       "      <th id=\"T_bfcc6_level0_col2\" class=\"col_heading level0 col2\" >total</th>\n",
       "    </tr>\n",
       "  </thead>\n",
       "  <tbody>\n",
       "    <tr>\n",
       "      <td id=\"T_bfcc6_row0_col0\" class=\"data row0 col0\" ><a href='http://recordsearch.naa.gov.au/scripts/AutoSearch.asp?Number=B883'>B883</a></td>\n",
       "      <td id=\"T_bfcc6_row0_col1\" class=\"data row0 col1\" >Second Australian Imperial Force Personnel Dossiers, 1939-1947</td>\n",
       "      <td id=\"T_bfcc6_row0_col2\" class=\"data row0 col2\" >18,050</td>\n",
       "    </tr>\n",
       "    <tr>\n",
       "      <td id=\"T_bfcc6_row1_col0\" class=\"data row1 col0\" ><a href='http://recordsearch.naa.gov.au/scripts/AutoSearch.asp?Number=A714'>A714</a></td>\n",
       "      <td id=\"T_bfcc6_row1_col1\" class=\"data row1 col1\" >Books of duplicate certificates of naturalization A(1)[Individual person] series</td>\n",
       "      <td id=\"T_bfcc6_row1_col2\" class=\"data row1 col2\" >10,409</td>\n",
       "    </tr>\n",
       "    <tr>\n",
       "      <td id=\"T_bfcc6_row2_col0\" class=\"data row2 col0\" ><a href='http://recordsearch.naa.gov.au/scripts/AutoSearch.asp?Number=B6288'>B6288</a></td>\n",
       "      <td id=\"T_bfcc6_row2_col1\" class=\"data row2 col1\" >Photographs and negatives of Commonwealth building sites and DHC/ACS departmental activities, single number series with 'V' (Victoria) prefix</td>\n",
       "      <td id=\"T_bfcc6_row2_col2\" class=\"data row2 col2\" >6,123</td>\n",
       "    </tr>\n",
       "    <tr>\n",
       "      <td id=\"T_bfcc6_row3_col0\" class=\"data row3 col0\" ><a href='http://recordsearch.naa.gov.au/scripts/AutoSearch.asp?Number=BP308/1'>BP308/1</a></td>\n",
       "      <td id=\"T_bfcc6_row3_col1\" class=\"data row3 col1\" >Wacol Migrant Centre accommodation history cards, alphabetical series</td>\n",
       "      <td id=\"T_bfcc6_row3_col2\" class=\"data row3 col2\" >5,658</td>\n",
       "    </tr>\n",
       "    <tr>\n",
       "      <td id=\"T_bfcc6_row4_col0\" class=\"data row4 col0\" ><a href='http://recordsearch.naa.gov.au/scripts/AutoSearch.asp?Number=PP246/4'>PP246/4</a></td>\n",
       "      <td id=\"T_bfcc6_row4_col1\" class=\"data row4 col1\" >Personal Statement and Declaration forms, alphabetical order within nationality</td>\n",
       "      <td id=\"T_bfcc6_row4_col2\" class=\"data row4 col2\" >3,968</td>\n",
       "    </tr>\n",
       "    <tr>\n",
       "      <td id=\"T_bfcc6_row5_col0\" class=\"data row5 col0\" ><a href='http://recordsearch.naa.gov.au/scripts/AutoSearch.asp?Number=A705'>A705</a></td>\n",
       "      <td id=\"T_bfcc6_row5_col1\" class=\"data row5 col1\" >Correspondence files, multiple number (Melbourne) series (Primary numbers 1-323)</td>\n",
       "      <td id=\"T_bfcc6_row5_col2\" class=\"data row5 col2\" >3,290</td>\n",
       "    </tr>\n",
       "    <tr>\n",
       "      <td id=\"T_bfcc6_row6_col0\" class=\"data row6 col0\" ><a href='http://recordsearch.naa.gov.au/scripts/AutoSearch.asp?Number=SP300/1'>SP300/1</a></td>\n",
       "      <td id=\"T_bfcc6_row6_col1\" class=\"data row6 col1\" >ABC Talk Scripts - General</td>\n",
       "      <td id=\"T_bfcc6_row6_col2\" class=\"data row6 col2\" >2,562</td>\n",
       "    </tr>\n",
       "    <tr>\n",
       "      <td id=\"T_bfcc6_row7_col0\" class=\"data row7 col0\" ><a href='http://recordsearch.naa.gov.au/scripts/AutoSearch.asp?Number=A471'>A471</a></td>\n",
       "      <td id=\"T_bfcc6_row7_col1\" class=\"data row7 col1\" >Courts-Martial files [including war crimes trials], single number series</td>\n",
       "      <td id=\"T_bfcc6_row7_col2\" class=\"data row7 col2\" >2,509</td>\n",
       "    </tr>\n",
       "    <tr>\n",
       "      <td id=\"T_bfcc6_row8_col0\" class=\"data row8 col0\" ><a href='http://recordsearch.naa.gov.au/scripts/AutoSearch.asp?Number=A8746'>A8746</a></td>\n",
       "      <td id=\"T_bfcc6_row8_col1\" class=\"data row8 col1\" >Photographic colour negatives, chronological series with 'KN' or 'RKN' prefix and a single number suffix</td>\n",
       "      <td id=\"T_bfcc6_row8_col2\" class=\"data row8 col2\" >2,278</td>\n",
       "    </tr>\n",
       "    <tr>\n",
       "      <td id=\"T_bfcc6_row9_col0\" class=\"data row9 col0\" ><a href='http://recordsearch.naa.gov.au/scripts/AutoSearch.asp?Number=A8746'>A8746</a></td>\n",
       "      <td id=\"T_bfcc6_row9_col1\" class=\"data row9 col1\" ></td>\n",
       "      <td id=\"T_bfcc6_row9_col2\" class=\"data row9 col2\" >2,211</td>\n",
       "    </tr>\n",
       "    <tr>\n",
       "      <td id=\"T_bfcc6_row10_col0\" class=\"data row10 col0\" ><a href='http://recordsearch.naa.gov.au/scripts/AutoSearch.asp?Number=A11016'>A11016</a></td>\n",
       "      <td id=\"T_bfcc6_row10_col1\" class=\"data row10 col1\" >Construction of Snowy Mountains Hydro-Electric Scheme, black and white photographic negatives, single number series</td>\n",
       "      <td id=\"T_bfcc6_row10_col2\" class=\"data row10 col2\" >2,189</td>\n",
       "    </tr>\n",
       "    <tr>\n",
       "      <td id=\"T_bfcc6_row11_col0\" class=\"data row11 col0\" ><a href='http://recordsearch.naa.gov.au/scripts/AutoSearch.asp?Number=J1732'>J1732</a></td>\n",
       "      <td id=\"T_bfcc6_row11_col1\" class=\"data row11 col1\" >Personal history cards for Civil Constructional  Corps members, alphabetical series</td>\n",
       "      <td id=\"T_bfcc6_row11_col2\" class=\"data row11 col2\" >1,496</td>\n",
       "    </tr>\n",
       "    <tr>\n",
       "      <td id=\"T_bfcc6_row12_col0\" class=\"data row12 col0\" ><a href='http://recordsearch.naa.gov.au/scripts/AutoSearch.asp?Number=A11016'>A11016</a></td>\n",
       "      <td id=\"T_bfcc6_row12_col1\" class=\"data row12 col1\" ></td>\n",
       "      <td id=\"T_bfcc6_row12_col2\" class=\"data row12 col2\" >1,401</td>\n",
       "    </tr>\n",
       "    <tr>\n",
       "      <td id=\"T_bfcc6_row13_col0\" class=\"data row13 col0\" ><a href='http://recordsearch.naa.gov.au/scripts/AutoSearch.asp?Number=D1989'>D1989</a></td>\n",
       "      <td id=\"T_bfcc6_row13_col1\" class=\"data row13 col1\" >Application forms, medical examination documents and related papers of British and Foreign Immigrants (including Ex Service) in receipt of free and assisted passages, chronological order of ship arrival.</td>\n",
       "      <td id=\"T_bfcc6_row13_col2\" class=\"data row13 col2\" >1,359</td>\n",
       "    </tr>\n",
       "    <tr>\n",
       "      <td id=\"T_bfcc6_row14_col0\" class=\"data row14 col0\" ><a href='http://recordsearch.naa.gov.au/scripts/AutoSearch.asp?Number=A2403'>A2403</a></td>\n",
       "      <td id=\"T_bfcc6_row14_col1\" class=\"data row14 col1\" >Photographic negatives, single number series with 'X' [Miscellaneous visits and conferences] prefix</td>\n",
       "      <td id=\"T_bfcc6_row14_col2\" class=\"data row14 col2\" >1,056</td>\n",
       "    </tr>\n",
       "    <tr>\n",
       "      <td id=\"T_bfcc6_row15_col0\" class=\"data row15 col0\" ><a href='http://recordsearch.naa.gov.au/scripts/AutoSearch.asp?Number=J2774'>J2774</a></td>\n",
       "      <td id=\"T_bfcc6_row15_col1\" class=\"data row15 col1\" >Architectural plans, single number series with 'W' (Works) prefix</td>\n",
       "      <td id=\"T_bfcc6_row15_col2\" class=\"data row15 col2\" >694</td>\n",
       "    </tr>\n",
       "    <tr>\n",
       "      <td id=\"T_bfcc6_row16_col0\" class=\"data row16 col0\" ><a href='http://recordsearch.naa.gov.au/scripts/AutoSearch.asp?Number=ST1910/7'>ST1910/7</a></td>\n",
       "      <td id=\"T_bfcc6_row16_col1\" class=\"data row16 col1\" >Army pay cards (forms WF3/WF3H ‘Pay ledger and history cards’ and WF45/WF45H, ‘Allotment ledger cards’) - Permanent Military Force NSW - World War Two</td>\n",
       "      <td id=\"T_bfcc6_row16_col2\" class=\"data row16 col2\" >666</td>\n",
       "    </tr>\n",
       "    <tr>\n",
       "      <td id=\"T_bfcc6_row17_col0\" class=\"data row17 col0\" ><a href='http://recordsearch.naa.gov.au/scripts/AutoSearch.asp?Number=B3712'>B3712</a></td>\n",
       "      <td id=\"T_bfcc6_row17_col1\" class=\"data row17 col1\" >Folders of construction drawings, numerical series</td>\n",
       "      <td id=\"T_bfcc6_row17_col2\" class=\"data row17 col2\" >640</td>\n",
       "    </tr>\n",
       "    <tr>\n",
       "      <td id=\"T_bfcc6_row18_col0\" class=\"data row18 col0\" ><a href='http://recordsearch.naa.gov.au/scripts/AutoSearch.asp?Number=A11015'>A11015</a></td>\n",
       "      <td id=\"T_bfcc6_row18_col1\" class=\"data row18 col1\" >Glass lantern slides, single number series</td>\n",
       "      <td id=\"T_bfcc6_row18_col2\" class=\"data row18 col2\" >585</td>\n",
       "    </tr>\n",
       "    <tr>\n",
       "      <td id=\"T_bfcc6_row19_col0\" class=\"data row19 col0\" ><a href='http://recordsearch.naa.gov.au/scripts/AutoSearch.asp?Number=A6135'>A6135</a></td>\n",
       "      <td id=\"T_bfcc6_row19_col1\" class=\"data row19 col1\" >Photographic colour transparencies positives, daily single number series with 'K' [Colour Transparencies] prefix</td>\n",
       "      <td id=\"T_bfcc6_row19_col2\" class=\"data row19 col2\" >534</td>\n",
       "    </tr>\n",
       "    <tr>\n",
       "      <td id=\"T_bfcc6_row20_col0\" class=\"data row20 col0\" ><a href='http://recordsearch.naa.gov.au/scripts/AutoSearch.asp?Number=PP9/4'>PP9/4</a></td>\n",
       "      <td id=\"T_bfcc6_row20_col1\" class=\"data row20 col1\" >Alien passports and travel documents, alphabetical series</td>\n",
       "      <td id=\"T_bfcc6_row20_col2\" class=\"data row20 col2\" >457</td>\n",
       "    </tr>\n",
       "    <tr>\n",
       "      <td id=\"T_bfcc6_row21_col0\" class=\"data row21 col0\" ><a href='http://recordsearch.naa.gov.au/scripts/AutoSearch.asp?Number=SP300/7'>SP300/7</a></td>\n",
       "      <td id=\"T_bfcc6_row21_col1\" class=\"data row21 col1\" >Vance Palmer collection - Scripts of talks presented during his regular ABC radio programme</td>\n",
       "      <td id=\"T_bfcc6_row21_col2\" class=\"data row21 col2\" >435</td>\n",
       "    </tr>\n",
       "    <tr>\n",
       "      <td id=\"T_bfcc6_row22_col0\" class=\"data row22 col0\" ><a href='http://recordsearch.naa.gov.au/scripts/AutoSearch.asp?Number=D1989'>D1989</a></td>\n",
       "      <td id=\"T_bfcc6_row22_col1\" class=\"data row22 col1\" ></td>\n",
       "      <td id=\"T_bfcc6_row22_col2\" class=\"data row22 col2\" >359</td>\n",
       "    </tr>\n",
       "    <tr>\n",
       "      <td id=\"T_bfcc6_row23_col0\" class=\"data row23 col0\" ><a href='http://recordsearch.naa.gov.au/scripts/AutoSearch.asp?Number=D4881'>D4881</a></td>\n",
       "      <td id=\"T_bfcc6_row23_col1\" class=\"data row23 col1\" >Alien registration cards, alphabetical series</td>\n",
       "      <td id=\"T_bfcc6_row23_col2\" class=\"data row23 col2\" >349</td>\n",
       "    </tr>\n",
       "    <tr>\n",
       "      <td id=\"T_bfcc6_row24_col0\" class=\"data row24 col0\" ><a href='http://recordsearch.naa.gov.au/scripts/AutoSearch.asp?Number=A10605'>A10605</a></td>\n",
       "      <td id=\"T_bfcc6_row24_col1\" class=\"data row24 col1\" >Personnel Occurrence Reports</td>\n",
       "      <td id=\"T_bfcc6_row24_col2\" class=\"data row24 col2\" >307</td>\n",
       "    </tr>\n",
       "  </tbody>\n",
       "</table>\n"
      ],
      "text/plain": [
       "<pandas.io.formats.style.Styler at 0x7a58177732b0>"
      ]
     },
     "metadata": {},
     "output_type": "display_data"
    }
   ],
   "source": [
    "top_series(df_year)"
   ]
  },
  {
   "cell_type": "code",
   "execution_count": 51,
   "id": "b2400fdc-b57e-430d-be68-acc6692136ad",
   "metadata": {},
   "outputs": [
    {
     "data": {
      "text/markdown": [
       "## Files digitised since 4 February 2021"
      ],
      "text/plain": [
       "<IPython.core.display.Markdown object>"
      ]
     },
     "execution_count": 51,
     "metadata": {},
     "output_type": "execute_result"
    }
   ],
   "source": [
    "Markdown(f\"## Files digitised since {start_date}\")"
   ]
  },
  {
   "cell_type": "code",
   "execution_count": 52,
   "id": "358c3662-e4ee-45dd-b86a-15d033bee692",
   "metadata": {},
   "outputs": [
    {
     "data": {
      "text/markdown": [
       "**1,478,687 files** have been digitised since 4 February 2021. Here are the number of files digitised per year."
      ],
      "text/plain": [
       "<IPython.core.display.Markdown object>"
      ]
     },
     "execution_count": 52,
     "metadata": {},
     "output_type": "execute_result"
    }
   ],
   "source": [
    "Markdown(f\"**{df_all.shape[0]:,} files** have been digitised since {start_date}. Here are the number of files digitised per year.\")"
   ]
  },
  {
   "cell_type": "code",
   "execution_count": 53,
   "id": "6f16abc3-0291-497b-b2dd-d95584e0fa72",
   "metadata": {},
   "outputs": [],
   "source": [
    "df_years = df_all['date_digitised'].groupby(df_all['date_digitised'].dt.to_period(\"Y\")).agg('count').to_frame()\n",
    "df_years.index = df_years.index.strftime('%Y')\n",
    "df_years.columns = [\"count\"]\n",
    "df_years.reset_index(inplace=True)"
   ]
  },
  {
   "cell_type": "code",
   "execution_count": 54,
   "id": "12fe3315-62d9-472c-ba61-83855bcd1aaf",
   "metadata": {},
   "outputs": [
    {
     "data": {
      "text/html": [
       "\n",
       "<style>\n",
       "  #altair-viz-e9e00e6731a14a019a2a519383449c48.vega-embed {\n",
       "    width: 100%;\n",
       "    display: flex;\n",
       "  }\n",
       "\n",
       "  #altair-viz-e9e00e6731a14a019a2a519383449c48.vega-embed details,\n",
       "  #altair-viz-e9e00e6731a14a019a2a519383449c48.vega-embed details summary {\n",
       "    position: relative;\n",
       "  }\n",
       "</style>\n",
       "<div id=\"altair-viz-e9e00e6731a14a019a2a519383449c48\"></div>\n",
       "<script type=\"text/javascript\">\n",
       "  var VEGA_DEBUG = (typeof VEGA_DEBUG == \"undefined\") ? {} : VEGA_DEBUG;\n",
       "  (function(spec, embedOpt){\n",
       "    let outputDiv = document.currentScript.previousElementSibling;\n",
       "    if (outputDiv.id !== \"altair-viz-e9e00e6731a14a019a2a519383449c48\") {\n",
       "      outputDiv = document.getElementById(\"altair-viz-e9e00e6731a14a019a2a519383449c48\");\n",
       "    }\n",
       "\n",
       "    const paths = {\n",
       "      \"vega\": \"https://cdn.jsdelivr.net/npm/vega@5?noext\",\n",
       "      \"vega-lib\": \"https://cdn.jsdelivr.net/npm/vega-lib?noext\",\n",
       "      \"vega-lite\": \"https://cdn.jsdelivr.net/npm/vega-lite@5.20.1?noext\",\n",
       "      \"vega-embed\": \"https://cdn.jsdelivr.net/npm/vega-embed@6?noext\",\n",
       "    };\n",
       "\n",
       "    function maybeLoadScript(lib, version) {\n",
       "      var key = `${lib.replace(\"-\", \"\")}_version`;\n",
       "      return (VEGA_DEBUG[key] == version) ?\n",
       "        Promise.resolve(paths[lib]) :\n",
       "        new Promise(function(resolve, reject) {\n",
       "          var s = document.createElement('script');\n",
       "          document.getElementsByTagName(\"head\")[0].appendChild(s);\n",
       "          s.async = true;\n",
       "          s.onload = () => {\n",
       "            VEGA_DEBUG[key] = version;\n",
       "            return resolve(paths[lib]);\n",
       "          };\n",
       "          s.onerror = () => reject(`Error loading script: ${paths[lib]}`);\n",
       "          s.src = paths[lib];\n",
       "        });\n",
       "    }\n",
       "\n",
       "    function showError(err) {\n",
       "      outputDiv.innerHTML = `<div class=\"error\" style=\"color:red;\">${err}</div>`;\n",
       "      throw err;\n",
       "    }\n",
       "\n",
       "    function displayChart(vegaEmbed) {\n",
       "      vegaEmbed(outputDiv, spec, embedOpt)\n",
       "        .catch(err => showError(`Javascript Error: ${err.message}<br>This usually means there's a typo in your chart specification. See the javascript console for the full traceback.`));\n",
       "    }\n",
       "\n",
       "    if(typeof define === \"function\" && define.amd) {\n",
       "      requirejs.config({paths});\n",
       "      let deps = [\"vega-embed\"];\n",
       "      require(deps, displayChart, err => showError(`Error loading script: ${err.message}`));\n",
       "    } else {\n",
       "      maybeLoadScript(\"vega\", \"5\")\n",
       "        .then(() => maybeLoadScript(\"vega-lite\", \"5.20.1\"))\n",
       "        .then(() => maybeLoadScript(\"vega-embed\", \"6\"))\n",
       "        .catch(showError)\n",
       "        .then(() => displayChart(vegaEmbed));\n",
       "    }\n",
       "  })({\"config\": {\"view\": {\"continuousWidth\": 300, \"continuousHeight\": 300}}, \"data\": {\"name\": \"data-32e86573de0083222b7277b61249d654\"}, \"mark\": {\"type\": \"bar\"}, \"encoding\": {\"tooltip\": [{\"field\": \"date_digitised\", \"title\": \"year\", \"type\": \"nominal\"}, {\"field\": \"count\", \"format\": \",\", \"title\": \"number digitised\", \"type\": \"quantitative\"}], \"x\": {\"field\": \"date_digitised\", \"title\": \"year\", \"type\": \"ordinal\"}, \"y\": {\"field\": \"count\", \"title\": \"number of files digitised\", \"type\": \"quantitative\"}}, \"height\": 200, \"padding\": 20, \"title\": \"Files digitised since 4 February 2021\", \"width\": 300, \"$schema\": \"https://vega.github.io/schema/vega-lite/v5.20.1.json\", \"datasets\": {\"data-32e86573de0083222b7277b61249d654\": [{\"date_digitised\": \"2021\", \"count\": 155482}, {\"date_digitised\": \"2022\", \"count\": 575597}, {\"date_digitised\": \"2023\", \"count\": 416601}, {\"date_digitised\": \"2024\", \"count\": 254950}, {\"date_digitised\": \"2025\", \"count\": 76057}]}}, {\"mode\": \"vega-lite\"});\n",
       "</script>"
      ],
      "text/plain": [
       "alt.Chart(...)"
      ]
     },
     "execution_count": 54,
     "metadata": {},
     "output_type": "execute_result"
    }
   ],
   "source": [
    "alt.Chart(df_years).mark_bar().encode(\n",
    "    x=alt.X(\"date_digitised:O\", title=\"year\"),\n",
    "    y=alt.Y(\"count:Q\", title=\"number of files digitised\"),\n",
    "    tooltip=[alt.Tooltip(\"date_digitised\", title=\"year\"), alt.Tooltip(\"count\", title=\"number digitised\", format=\",\")]\n",
    ").properties(width=300, height=200, padding=20, title=f\"Files digitised since {start_date}\")"
   ]
  },
  {
   "cell_type": "code",
   "execution_count": 55,
   "id": "97040455-b942-47fe-8a70-7e4c7563e0cd",
   "metadata": {},
   "outputs": [
    {
     "data": {
      "text/markdown": [
       "The files came from **2,949 different series**. Here are the 25 series which contain the most files digitised since 4 February 2021."
      ],
      "text/plain": [
       "<IPython.core.display.Markdown object>"
      ]
     },
     "execution_count": 55,
     "metadata": {},
     "output_type": "execute_result"
    }
   ],
   "source": [
    "Markdown(f\"The files came from **{df_all['series'].nunique():,} different series**. Here are the 25 series which contain the most files digitised since {start_date}.\")"
   ]
  },
  {
   "cell_type": "code",
   "execution_count": 56,
   "id": "cdc34988-e6dd-4885-860c-5ce384d57cd4",
   "metadata": {},
   "outputs": [
    {
     "data": {
      "text/html": [
       "<style type=\"text/css\">\n",
       "#T_11416 th {\n",
       "  text-align: left;\n",
       "}\n",
       "#T_11416_row0_col0, #T_11416_row0_col1, #T_11416_row0_col2, #T_11416_row1_col0, #T_11416_row1_col1, #T_11416_row1_col2, #T_11416_row2_col0, #T_11416_row2_col1, #T_11416_row2_col2, #T_11416_row3_col0, #T_11416_row3_col1, #T_11416_row3_col2, #T_11416_row4_col0, #T_11416_row4_col1, #T_11416_row4_col2, #T_11416_row5_col0, #T_11416_row5_col1, #T_11416_row5_col2, #T_11416_row6_col0, #T_11416_row6_col1, #T_11416_row6_col2, #T_11416_row7_col0, #T_11416_row7_col1, #T_11416_row7_col2, #T_11416_row8_col0, #T_11416_row8_col1, #T_11416_row8_col2, #T_11416_row9_col0, #T_11416_row9_col1, #T_11416_row9_col2, #T_11416_row10_col0, #T_11416_row10_col1, #T_11416_row10_col2, #T_11416_row11_col0, #T_11416_row11_col1, #T_11416_row11_col2, #T_11416_row12_col0, #T_11416_row12_col1, #T_11416_row12_col2, #T_11416_row13_col0, #T_11416_row13_col1, #T_11416_row13_col2, #T_11416_row14_col0, #T_11416_row14_col1, #T_11416_row14_col2, #T_11416_row15_col0, #T_11416_row15_col1, #T_11416_row15_col2, #T_11416_row16_col0, #T_11416_row16_col1, #T_11416_row16_col2, #T_11416_row17_col0, #T_11416_row17_col1, #T_11416_row17_col2, #T_11416_row18_col0, #T_11416_row18_col1, #T_11416_row18_col2, #T_11416_row19_col0, #T_11416_row19_col1, #T_11416_row19_col2, #T_11416_row20_col0, #T_11416_row20_col1, #T_11416_row20_col2, #T_11416_row21_col0, #T_11416_row21_col1, #T_11416_row21_col2, #T_11416_row22_col0, #T_11416_row22_col1, #T_11416_row22_col2, #T_11416_row23_col0, #T_11416_row23_col1, #T_11416_row23_col2, #T_11416_row24_col0, #T_11416_row24_col1, #T_11416_row24_col2 {\n",
       "  text-align: left;\n",
       "}\n",
       "</style>\n",
       "<table id=\"T_11416\">\n",
       "  <thead>\n",
       "    <tr>\n",
       "      <th id=\"T_11416_level0_col0\" class=\"col_heading level0 col0\" >series</th>\n",
       "      <th id=\"T_11416_level0_col1\" class=\"col_heading level0 col1\" >series_title</th>\n",
       "      <th id=\"T_11416_level0_col2\" class=\"col_heading level0 col2\" >total</th>\n",
       "    </tr>\n",
       "  </thead>\n",
       "  <tbody>\n",
       "    <tr>\n",
       "      <td id=\"T_11416_row0_col0\" class=\"data row0 col0\" ><a href='http://recordsearch.naa.gov.au/scripts/AutoSearch.asp?Number=B883'>B883</a></td>\n",
       "      <td id=\"T_11416_row0_col1\" class=\"data row0 col1\" >Second Australian Imperial Force Personnel Dossiers, 1939-1947</td>\n",
       "      <td id=\"T_11416_row0_col2\" class=\"data row0 col2\" >331,133</td>\n",
       "    </tr>\n",
       "    <tr>\n",
       "      <td id=\"T_11416_row1_col0\" class=\"data row1 col0\" ><a href='http://recordsearch.naa.gov.au/scripts/AutoSearch.asp?Number=B884'>B884</a></td>\n",
       "      <td id=\"T_11416_row1_col1\" class=\"data row1 col1\" >Citizen Military Forces Personnel Dossiers, 1939-1947</td>\n",
       "      <td id=\"T_11416_row1_col2\" class=\"data row1 col2\" >284,168</td>\n",
       "    </tr>\n",
       "    <tr>\n",
       "      <td id=\"T_11416_row2_col0\" class=\"data row2 col0\" ><a href='http://recordsearch.naa.gov.au/scripts/AutoSearch.asp?Number=A9301'>A9301</a></td>\n",
       "      <td id=\"T_11416_row2_col1\" class=\"data row2 col1\" >RAAF Personnel files of Non-Commissioned Officers (NCOs) and other ranks, 1921-1948</td>\n",
       "      <td id=\"T_11416_row2_col2\" class=\"data row2 col2\" >189,849</td>\n",
       "    </tr>\n",
       "    <tr>\n",
       "      <td id=\"T_11416_row3_col0\" class=\"data row3 col0\" ><a href='http://recordsearch.naa.gov.au/scripts/AutoSearch.asp?Number=A2571'>A2571</a></td>\n",
       "      <td id=\"T_11416_row3_col1\" class=\"data row3 col1\" >Name Index Cards, Migrants Registration [Bonegilla]</td>\n",
       "      <td id=\"T_11416_row3_col2\" class=\"data row3 col2\" >162,204</td>\n",
       "    </tr>\n",
       "    <tr>\n",
       "      <td id=\"T_11416_row4_col0\" class=\"data row4 col0\" ><a href='http://recordsearch.naa.gov.au/scripts/AutoSearch.asp?Number=A2572'>A2572</a></td>\n",
       "      <td id=\"T_11416_row4_col1\" class=\"data row4 col1\" >Name Index Cards, Migrants Registration [Bonegilla]</td>\n",
       "      <td id=\"T_11416_row4_col2\" class=\"data row4 col2\" >101,983</td>\n",
       "    </tr>\n",
       "    <tr>\n",
       "      <td id=\"T_11416_row5_col0\" class=\"data row5 col0\" ><a href='http://recordsearch.naa.gov.au/scripts/AutoSearch.asp?Number=A9300'>A9300</a></td>\n",
       "      <td id=\"T_11416_row5_col1\" class=\"data row5 col1\" >RAAF Officers Personnel files, 1921-1948</td>\n",
       "      <td id=\"T_11416_row5_col2\" class=\"data row5 col2\" >33,909</td>\n",
       "    </tr>\n",
       "    <tr>\n",
       "      <td id=\"T_11416_row6_col0\" class=\"data row6 col0\" ><a href='http://recordsearch.naa.gov.au/scripts/AutoSearch.asp?Number=A714'>A714</a></td>\n",
       "      <td id=\"T_11416_row6_col1\" class=\"data row6 col1\" >Books of duplicate certificates of naturalization A(1)[Individual person] series</td>\n",
       "      <td id=\"T_11416_row6_col2\" class=\"data row6 col2\" >24,012</td>\n",
       "    </tr>\n",
       "    <tr>\n",
       "      <td id=\"T_11416_row7_col0\" class=\"data row7 col0\" ><a href='http://recordsearch.naa.gov.au/scripts/AutoSearch.asp?Number=A6135'>A6135</a></td>\n",
       "      <td id=\"T_11416_row7_col1\" class=\"data row7 col1\" >Photographic colour transparencies positives, daily single number series with 'K' [Colour Transparencies] prefix</td>\n",
       "      <td id=\"T_11416_row7_col2\" class=\"data row7 col2\" >20,158</td>\n",
       "    </tr>\n",
       "    <tr>\n",
       "      <td id=\"T_11416_row8_col0\" class=\"data row8 col0\" ><a href='http://recordsearch.naa.gov.au/scripts/AutoSearch.asp?Number=A13150'>A13150</a></td>\n",
       "      <td id=\"T_11416_row8_col1\" class=\"data row8 col1\" >Specifications, examiners reports and correspondence relating to the Registration of Victorian Patents - Second system</td>\n",
       "      <td id=\"T_11416_row8_col2\" class=\"data row8 col2\" >17,546</td>\n",
       "    </tr>\n",
       "    <tr>\n",
       "      <td id=\"T_11416_row9_col0\" class=\"data row9 col0\" ><a href='http://recordsearch.naa.gov.au/scripts/AutoSearch.asp?Number=D3481'>D3481</a></td>\n",
       "      <td id=\"T_11416_row9_col1\" class=\"data row9 col1\" >Photographs (black and white, colour) of buildings, installations, sites, etc</td>\n",
       "      <td id=\"T_11416_row9_col2\" class=\"data row9 col2\" >13,555</td>\n",
       "    </tr>\n",
       "    <tr>\n",
       "      <td id=\"T_11416_row10_col0\" class=\"data row10 col0\" ><a href='http://recordsearch.naa.gov.au/scripts/AutoSearch.asp?Number=A705'>A705</a></td>\n",
       "      <td id=\"T_11416_row10_col1\" class=\"data row10 col1\" >Correspondence files, multiple number (Melbourne) series (Primary numbers 1-323)</td>\n",
       "      <td id=\"T_11416_row10_col2\" class=\"data row10 col2\" >13,322</td>\n",
       "    </tr>\n",
       "    <tr>\n",
       "      <td id=\"T_11416_row11_col0\" class=\"data row11 col0\" ><a href='http://recordsearch.naa.gov.au/scripts/AutoSearch.asp?Number=D874'>D874</a></td>\n",
       "      <td id=\"T_11416_row11_col1\" class=\"data row11 col1\" >Still photograph outdoor and studio negatives, annual single number series with N prefix (and progressive alpha infix A-K from 1948-1957)</td>\n",
       "      <td id=\"T_11416_row11_col2\" class=\"data row11 col2\" >12,328</td>\n",
       "    </tr>\n",
       "    <tr>\n",
       "      <td id=\"T_11416_row12_col0\" class=\"data row12 col0\" ><a href='http://recordsearch.naa.gov.au/scripts/AutoSearch.asp?Number=A1500'>A1500</a></td>\n",
       "      <td id=\"T_11416_row12_col1\" class=\"data row12 col1\" >Photographic colour transparencies [positives], single number series with 'K' [Colour] prefix</td>\n",
       "      <td id=\"T_11416_row12_col2\" class=\"data row12 col2\" >11,866</td>\n",
       "    </tr>\n",
       "    <tr>\n",
       "      <td id=\"T_11416_row13_col0\" class=\"data row13 col0\" ><a href='http://recordsearch.naa.gov.au/scripts/AutoSearch.asp?Number=A7109'>A7109</a></td>\n",
       "      <td id=\"T_11416_row13_col1\" class=\"data row13 col1\" >\"Dead\" card index of Registered Aliens</td>\n",
       "      <td id=\"T_11416_row13_col2\" class=\"data row13 col2\" >10,618</td>\n",
       "    </tr>\n",
       "    <tr>\n",
       "      <td id=\"T_11416_row14_col0\" class=\"data row14 col0\" ><a href='http://recordsearch.naa.gov.au/scripts/AutoSearch.asp?Number=A14435'>A14435</a></td>\n",
       "      <td id=\"T_11416_row14_col1\" class=\"data row14 col1\" >Stanley Fowler photographs showing the Australian fishing industry and coastline, numerical series with ‘LA’prefix</td>\n",
       "      <td id=\"T_11416_row14_col2\" class=\"data row14 col2\" >10,512</td>\n",
       "    </tr>\n",
       "    <tr>\n",
       "      <td id=\"T_11416_row15_col0\" class=\"data row15 col0\" ><a href='http://recordsearch.naa.gov.au/scripts/AutoSearch.asp?Number=E607'>E607</a></td>\n",
       "      <td id=\"T_11416_row15_col1\" class=\"data row15 col1\" >Negative film of photographs taken of every lot of Darwin after Cyclone Tracy, two number series</td>\n",
       "      <td id=\"T_11416_row15_col2\" class=\"data row15 col2\" >9,510</td>\n",
       "    </tr>\n",
       "    <tr>\n",
       "      <td id=\"T_11416_row16_col0\" class=\"data row16 col0\" ><a href='http://recordsearch.naa.gov.au/scripts/AutoSearch.asp?Number=J853'>J853</a></td>\n",
       "      <td id=\"T_11416_row16_col1\" class=\"data row16 col1\" >Architectural plans, annual single number series with alpha (denoting Papua New Guinea and discipline) prefix and/or alpha/numeric (denoting size and amendment) suffix</td>\n",
       "      <td id=\"T_11416_row16_col2\" class=\"data row16 col2\" >9,023</td>\n",
       "    </tr>\n",
       "    <tr>\n",
       "      <td id=\"T_11416_row17_col0\" class=\"data row17 col0\" ><a href='http://recordsearch.naa.gov.au/scripts/AutoSearch.asp?Number=A13149'>A13149</a></td>\n",
       "      <td id=\"T_11416_row17_col1\" class=\"data row17 col1\" >Applications for Registration of Victorian Patents - Second system</td>\n",
       "      <td id=\"T_11416_row17_col2\" class=\"data row17 col2\" >8,876</td>\n",
       "    </tr>\n",
       "    <tr>\n",
       "      <td id=\"T_11416_row18_col0\" class=\"data row18 col0\" ><a href='http://recordsearch.naa.gov.au/scripts/AutoSearch.asp?Number=MT1486/1'>MT1486/1</a></td>\n",
       "      <td id=\"T_11416_row18_col1\" class=\"data row18 col1\" >Applications to enlist in the Australian Imperial Force</td>\n",
       "      <td id=\"T_11416_row18_col2\" class=\"data row18 col2\" >7,999</td>\n",
       "    </tr>\n",
       "    <tr>\n",
       "      <td id=\"T_11416_row19_col0\" class=\"data row19 col0\" ><a href='http://recordsearch.naa.gov.au/scripts/AutoSearch.asp?Number=A1'>A1</a></td>\n",
       "      <td id=\"T_11416_row19_col1\" class=\"data row19 col1\" >Correspondence files, annual single number series [Main correspondence files series of the agency]</td>\n",
       "      <td id=\"T_11416_row19_col2\" class=\"data row19 col2\" >7,621</td>\n",
       "    </tr>\n",
       "    <tr>\n",
       "      <td id=\"T_11416_row20_col0\" class=\"data row20 col0\" ><a href='http://recordsearch.naa.gov.au/scripts/AutoSearch.asp?Number=BP308/1'>BP308/1</a></td>\n",
       "      <td id=\"T_11416_row20_col1\" class=\"data row20 col1\" >Wacol Migrant Centre accommodation history cards, alphabetical series</td>\n",
       "      <td id=\"T_11416_row20_col2\" class=\"data row20 col2\" >6,568</td>\n",
       "    </tr>\n",
       "    <tr>\n",
       "      <td id=\"T_11416_row21_col0\" class=\"data row21 col0\" ><a href='http://recordsearch.naa.gov.au/scripts/AutoSearch.asp?Number=AP476/1'>AP476/1</a></td>\n",
       "      <td id=\"T_11416_row21_col1\" class=\"data row21 col1\" >Petitions for South Australian Colonial patents with specifications.</td>\n",
       "      <td id=\"T_11416_row21_col2\" class=\"data row21 col2\" >6,484</td>\n",
       "    </tr>\n",
       "    <tr>\n",
       "      <td id=\"T_11416_row22_col0\" class=\"data row22 col0\" ><a href='http://recordsearch.naa.gov.au/scripts/AutoSearch.asp?Number=B6288'>B6288</a></td>\n",
       "      <td id=\"T_11416_row22_col1\" class=\"data row22 col1\" >Photographs and negatives of Commonwealth building sites and DHC/ACS departmental activities, single number series with 'V' (Victoria) prefix</td>\n",
       "      <td id=\"T_11416_row22_col2\" class=\"data row22 col2\" >6,123</td>\n",
       "    </tr>\n",
       "    <tr>\n",
       "      <td id=\"T_11416_row23_col0\" class=\"data row23 col0\" ><a href='http://recordsearch.naa.gov.au/scripts/AutoSearch.asp?Number=D1423'>D1423</a></td>\n",
       "      <td id=\"T_11416_row23_col1\" class=\"data row23 col1\" >Original plans (negatives), single number series with alpha prefix denoting discipline</td>\n",
       "      <td id=\"T_11416_row23_col2\" class=\"data row23 col2\" >4,722</td>\n",
       "    </tr>\n",
       "    <tr>\n",
       "      <td id=\"T_11416_row24_col0\" class=\"data row24 col0\" ><a href='http://recordsearch.naa.gov.au/scripts/AutoSearch.asp?Number=K1145'>K1145</a></td>\n",
       "      <td id=\"T_11416_row24_col1\" class=\"data row24 col1\" >Certificates of Exemption from Dictation Test, annual certificate number order</td>\n",
       "      <td id=\"T_11416_row24_col2\" class=\"data row24 col2\" >4,550</td>\n",
       "    </tr>\n",
       "  </tbody>\n",
       "</table>\n"
      ],
      "text/plain": [
       "<pandas.io.formats.style.Styler at 0x7a581270d2a0>"
      ]
     },
     "metadata": {},
     "output_type": "display_data"
    }
   ],
   "source": [
    "top_series(df_all)"
   ]
  },
  {
   "cell_type": "code",
   "execution_count": 57,
   "id": "217767c3-5e14-4f8c-8393-47f0acf2b37a",
   "metadata": {},
   "outputs": [],
   "source": [
    "if week_start.year != week_end.year:\n",
    "    df_last_year = df_all.copy().loc[(df_all[\"date_digitised\"] >= f\"{week_start.year}-01-01\") & (df_all[\"date_digitised\"] <= f\"{week_start.year}-12-31\")]\n",
    "    df_last_year.drop_duplicates(inplace=True)\n",
    "    df_last_year.to_csv(f\"years/digitised_{week_start.year}.csv\", index=False)\n",
    "\n",
    "df_year.to_parquet(f\"years/digitised_{week_end.year}.parquet\", index=False)"
   ]
  },
  {
   "cell_type": "markdown",
   "id": "734adfc5-0fbe-4678-bcce-7477456fe99a",
   "metadata": {},
   "source": [
    "----\n",
    "\n",
    "Created by [Tim Sherratt](https://timsherratt.au) for the [GLAM Workbench](https://glam-workbench.net)."
   ]
  }
 ],
 "metadata": {
  "kernelspec": {
   "display_name": "Python 3 (ipykernel)",
   "language": "python",
   "name": "python3"
  },
  "language_info": {
   "codemirror_mode": {
    "name": "ipython",
    "version": 3
   },
   "file_extension": ".py",
   "mimetype": "text/x-python",
   "name": "python",
   "nbconvert_exporter": "python",
   "pygments_lexer": "ipython3",
   "version": "3.10.12"
  },
  "widgets": {
   "application/vnd.jupyter.widget-state+json": {
    "state": {
     "0997f728683e4ee784e92ce00a6e0b92": {
      "model_module": "@jupyter-widgets/base",
      "model_module_version": "1.2.0",
      "model_name": "LayoutModel",
      "state": {}
     },
     "0a27a2d1d38341549ee9e338f1191614": {
      "model_module": "@jupyter-widgets/controls",
      "model_module_version": "1.5.0",
      "model_name": "ProgressStyleModel",
      "state": {
       "description_width": ""
      }
     },
     "1bbb145a4f404c1a8921f19ccd1cac49": {
      "model_module": "@jupyter-widgets/controls",
      "model_module_version": "1.5.0",
      "model_name": "FloatProgressModel",
      "state": {
       "bar_style": "success",
       "layout": "IPY_MODEL_e84ad94545134238b066fb2994b1af68",
       "max": 111,
       "style": "IPY_MODEL_0a27a2d1d38341549ee9e338f1191614",
       "value": 111
      }
     },
     "1e03d86847dc43ffb3809f04b4fa25a8": {
      "model_module": "@jupyter-widgets/controls",
      "model_module_version": "1.5.0",
      "model_name": "ProgressStyleModel",
      "state": {
       "description_width": ""
      }
     },
     "21cb2f1537f44836912559b5eecf38cf": {
      "model_module": "@jupyter-widgets/base",
      "model_module_version": "1.2.0",
      "model_name": "LayoutModel",
      "state": {}
     },
     "22da06fa71e04b7a8ff810b00360804d": {
      "model_module": "@jupyter-widgets/controls",
      "model_module_version": "1.5.0",
      "model_name": "HBoxModel",
      "state": {
       "children": [
        "IPY_MODEL_2d6b5fd9c95c415a937706298a4ff231",
        "IPY_MODEL_fbac6c69fe7248b3bb9b8ee64850e4fd",
        "IPY_MODEL_7c7a322f7ac64870bc4a68ff3b0e137f"
       ],
       "layout": "IPY_MODEL_72388cd34c494df591302abe52c3bb8c"
      }
     },
     "2b9aab5e772e47aabc99b4b83ae6d2bc": {
      "model_module": "@jupyter-widgets/base",
      "model_module_version": "1.2.0",
      "model_name": "LayoutModel",
      "state": {}
     },
     "2d6b5fd9c95c415a937706298a4ff231": {
      "model_module": "@jupyter-widgets/controls",
      "model_module_version": "1.5.0",
      "model_name": "HTMLModel",
      "state": {
       "layout": "IPY_MODEL_cb6d929360eb48be80163aae06b63110",
       "style": "IPY_MODEL_c0ad7a806d72425ca59d94605c34fdd1",
       "value": "100%"
      }
     },
     "3507d82eac7345fea3bd95e8988a976b": {
      "model_module": "@jupyter-widgets/controls",
      "model_module_version": "1.5.0",
      "model_name": "DescriptionStyleModel",
      "state": {
       "description_width": ""
      }
     },
     "3bd4e19005c64eadbef1274348499fe4": {
      "model_module": "@jupyter-widgets/controls",
      "model_module_version": "1.5.0",
      "model_name": "DescriptionStyleModel",
      "state": {
       "description_width": ""
      }
     },
     "3be49fafd513422985ab72089fb1f677": {
      "model_module": "@jupyter-widgets/base",
      "model_module_version": "1.2.0",
      "model_name": "LayoutModel",
      "state": {}
     },
     "4a1e01a2a579421e9c62dc54ff80754b": {
      "model_module": "@jupyter-widgets/controls",
      "model_module_version": "1.5.0",
      "model_name": "DescriptionStyleModel",
      "state": {
       "description_width": ""
      }
     },
     "514f00ccec1a43ea8247b65ca4f67d0a": {
      "model_module": "@jupyter-widgets/controls",
      "model_module_version": "1.5.0",
      "model_name": "DescriptionStyleModel",
      "state": {
       "description_width": ""
      }
     },
     "51c647ab4e5c43d18aae3d97e85da654": {
      "model_module": "@jupyter-widgets/base",
      "model_module_version": "1.2.0",
      "model_name": "LayoutModel",
      "state": {}
     },
     "5c324ba8eb054e66b0eff9b0b305c8d6": {
      "model_module": "@jupyter-widgets/controls",
      "model_module_version": "1.5.0",
      "model_name": "HBoxModel",
      "state": {
       "children": [
        "IPY_MODEL_7501b17689144c5f80af7d8ee21490be",
        "IPY_MODEL_1bbb145a4f404c1a8921f19ccd1cac49",
        "IPY_MODEL_76d5620b6e394dfb8beec9f077369bbf"
       ],
       "layout": "IPY_MODEL_51c647ab4e5c43d18aae3d97e85da654"
      }
     },
     "6f3649e3bad848ffbcffdbcfd720b28b": {
      "model_module": "@jupyter-widgets/controls",
      "model_module_version": "1.5.0",
      "model_name": "FloatProgressModel",
      "state": {
       "bar_style": "success",
       "layout": "IPY_MODEL_2b9aab5e772e47aabc99b4b83ae6d2bc",
       "max": 111,
       "style": "IPY_MODEL_a96c806c5b474b9a816fabe17ab73823",
       "value": 111
      }
     },
     "72388cd34c494df591302abe52c3bb8c": {
      "model_module": "@jupyter-widgets/base",
      "model_module_version": "1.2.0",
      "model_name": "LayoutModel",
      "state": {}
     },
     "7501b17689144c5f80af7d8ee21490be": {
      "model_module": "@jupyter-widgets/controls",
      "model_module_version": "1.5.0",
      "model_name": "HTMLModel",
      "state": {
       "layout": "IPY_MODEL_f1a27d27b03546729b2cabefa74f9a78",
       "style": "IPY_MODEL_4a1e01a2a579421e9c62dc54ff80754b",
       "value": "100%"
      }
     },
     "76d5620b6e394dfb8beec9f077369bbf": {
      "model_module": "@jupyter-widgets/controls",
      "model_module_version": "1.5.0",
      "model_name": "HTMLModel",
      "state": {
       "layout": "IPY_MODEL_7aa803debb1e4e89b1b387d01dab949a",
       "style": "IPY_MODEL_feb3c4c4707f4931b9569aae863a0d03",
       "value": " 111/111 [00:00&lt;00:00, 3752.82it/s]"
      }
     },
     "7aa803debb1e4e89b1b387d01dab949a": {
      "model_module": "@jupyter-widgets/base",
      "model_module_version": "1.2.0",
      "model_name": "LayoutModel",
      "state": {}
     },
     "7c7a322f7ac64870bc4a68ff3b0e137f": {
      "model_module": "@jupyter-widgets/controls",
      "model_module_version": "1.5.0",
      "model_name": "HTMLModel",
      "state": {
       "layout": "IPY_MODEL_3be49fafd513422985ab72089fb1f677",
       "style": "IPY_MODEL_514f00ccec1a43ea8247b65ca4f67d0a",
       "value": " 111/111 [00:00&lt;00:00,  1.10it/s]"
      }
     },
     "83fc738f183547e3a8252e34673494c4": {
      "model_module": "@jupyter-widgets/controls",
      "model_module_version": "1.5.0",
      "model_name": "HTMLModel",
      "state": {
       "layout": "IPY_MODEL_8bbb5e71fb86449dbfba5eef04c58aac",
       "style": "IPY_MODEL_3bd4e19005c64eadbef1274348499fe4",
       "value": " 111/111 [00:00&lt;00:00, 3947.09it/s]"
      }
     },
     "8bbb5e71fb86449dbfba5eef04c58aac": {
      "model_module": "@jupyter-widgets/base",
      "model_module_version": "1.2.0",
      "model_name": "LayoutModel",
      "state": {}
     },
     "91df6f27b1b7486986788d71de6e8a06": {
      "model_module": "@jupyter-widgets/controls",
      "model_module_version": "1.5.0",
      "model_name": "HTMLModel",
      "state": {
       "layout": "IPY_MODEL_0997f728683e4ee784e92ce00a6e0b92",
       "style": "IPY_MODEL_3507d82eac7345fea3bd95e8988a976b",
       "value": "100%"
      }
     },
     "a96c806c5b474b9a816fabe17ab73823": {
      "model_module": "@jupyter-widgets/controls",
      "model_module_version": "1.5.0",
      "model_name": "ProgressStyleModel",
      "state": {
       "description_width": ""
      }
     },
     "b0c9c4f1164c4ed297ca6dfe9ad3b01a": {
      "model_module": "@jupyter-widgets/base",
      "model_module_version": "1.2.0",
      "model_name": "LayoutModel",
      "state": {}
     },
     "c0ad7a806d72425ca59d94605c34fdd1": {
      "model_module": "@jupyter-widgets/controls",
      "model_module_version": "1.5.0",
      "model_name": "DescriptionStyleModel",
      "state": {
       "description_width": ""
      }
     },
     "cb6d929360eb48be80163aae06b63110": {
      "model_module": "@jupyter-widgets/base",
      "model_module_version": "1.2.0",
      "model_name": "LayoutModel",
      "state": {}
     },
     "e6c096cc963142ed8c6c8c382e8c5046": {
      "model_module": "@jupyter-widgets/controls",
      "model_module_version": "1.5.0",
      "model_name": "HBoxModel",
      "state": {
       "children": [
        "IPY_MODEL_91df6f27b1b7486986788d71de6e8a06",
        "IPY_MODEL_6f3649e3bad848ffbcffdbcfd720b28b",
        "IPY_MODEL_83fc738f183547e3a8252e34673494c4"
       ],
       "layout": "IPY_MODEL_b0c9c4f1164c4ed297ca6dfe9ad3b01a"
      }
     },
     "e84ad94545134238b066fb2994b1af68": {
      "model_module": "@jupyter-widgets/base",
      "model_module_version": "1.2.0",
      "model_name": "LayoutModel",
      "state": {}
     },
     "f1a27d27b03546729b2cabefa74f9a78": {
      "model_module": "@jupyter-widgets/base",
      "model_module_version": "1.2.0",
      "model_name": "LayoutModel",
      "state": {}
     },
     "fbac6c69fe7248b3bb9b8ee64850e4fd": {
      "model_module": "@jupyter-widgets/controls",
      "model_module_version": "1.5.0",
      "model_name": "FloatProgressModel",
      "state": {
       "bar_style": "success",
       "layout": "IPY_MODEL_21cb2f1537f44836912559b5eecf38cf",
       "max": 111,
       "style": "IPY_MODEL_1e03d86847dc43ffb3809f04b4fa25a8",
       "value": 111
      }
     },
     "feb3c4c4707f4931b9569aae863a0d03": {
      "model_module": "@jupyter-widgets/controls",
      "model_module_version": "1.5.0",
      "model_name": "DescriptionStyleModel",
      "state": {
       "description_width": ""
      }
     }
    },
    "version_major": 2,
    "version_minor": 0
   }
  }
 },
 "nbformat": 4,
 "nbformat_minor": 5
}
